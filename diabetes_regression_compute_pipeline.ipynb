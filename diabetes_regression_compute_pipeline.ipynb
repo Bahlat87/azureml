{
 "cells": [
  {
   "cell_type": "code",
   "execution_count": 1,
   "metadata": {},
   "outputs": [
    {
     "name": "stdout",
     "output_type": "stream",
     "text": [
      "Azure ML SDK Version:  1.3.0\n"
     ]
    }
   ],
   "source": [
    "import azureml.core\n",
    "from azureml.core import Workspace\n",
    "\n",
    "# check core SDK version number\n",
    "print(\"Azure ML SDK Version: \", azureml.core.VERSION)\n"
   ]
  },
  {
   "cell_type": "code",
   "execution_count": null,
   "metadata": {},
   "outputs": [],
   "source": [
    "!pip install --upgrade azureml-sdk"
   ]
  },
  {
   "cell_type": "code",
   "execution_count": 20,
   "metadata": {},
   "outputs": [
    {
     "name": "stdout",
     "output_type": "stream",
     "text": [
      "Collecting scikit-learn\n",
      "\u001b[?25l  Downloading https://files.pythonhosted.org/packages/5e/d8/312e03adf4c78663e17d802fe2440072376fee46cada1404f1727ed77a32/scikit_learn-0.22.2.post1-cp36-cp36m-manylinux1_x86_64.whl (7.1MB)\n",
      "\u001b[K     |████████████████████████████████| 7.1MB 7.1MB/s eta 0:00:01\n",
      "\u001b[?25hRequirement already satisfied, skipping upgrade: numpy>=1.11.0 in /anaconda/envs/azureml_py36/lib/python3.6/site-packages (from scikit-learn) (1.16.2)\n",
      "Requirement already satisfied, skipping upgrade: scipy>=0.17.0 in /anaconda/envs/azureml_py36/lib/python3.6/site-packages (from scikit-learn) (1.4.1)\n",
      "Requirement already satisfied, skipping upgrade: joblib>=0.11 in /anaconda/envs/azureml_py36/lib/python3.6/site-packages (from scikit-learn) (0.14.1)\n",
      "\u001b[31mERROR: azureml-train-automl-runtime 1.0.85.5 has requirement azureml-automl-core==1.0.85.*, but you'll have azureml-automl-core 1.3.0 which is incompatible.\u001b[0m\n",
      "\u001b[31mERROR: azureml-train-automl-runtime 1.0.85.5 has requirement azureml-core==1.0.85.*, but you'll have azureml-core 1.3.0 which is incompatible.\u001b[0m\n",
      "\u001b[31mERROR: azureml-train-automl-runtime 1.0.85.5 has requirement azureml-dataprep[fuse,pandas]<1.2.0a,>=1.1.37a, but you'll have azureml-dataprep 1.4.3 which is incompatible.\u001b[0m\n",
      "\u001b[31mERROR: azureml-train-automl-runtime 1.0.85.5 has requirement azureml-pipeline-core==1.0.85.*, but you'll have azureml-pipeline-core 1.3.0 which is incompatible.\u001b[0m\n",
      "\u001b[31mERROR: azureml-train-automl-runtime 1.0.85.5 has requirement azureml-telemetry==1.0.85.*, but you'll have azureml-telemetry 1.3.0 which is incompatible.\u001b[0m\n",
      "\u001b[31mERROR: azureml-train-automl-runtime 1.0.85.5 has requirement azureml-train-automl-client==1.0.85.*, but you'll have azureml-train-automl-client 1.3.0 which is incompatible.\u001b[0m\n",
      "\u001b[31mERROR: azureml-train-automl-runtime 1.0.85.5 has requirement scikit-learn<=0.20.3,>=0.19.0, but you'll have scikit-learn 0.22.2.post1 which is incompatible.\u001b[0m\n",
      "\u001b[31mERROR: azureml-train-automl-runtime 1.0.85.5 has requirement scipy<=1.1.0,>=1.0.0, but you'll have scipy 1.4.1 which is incompatible.\u001b[0m\n",
      "\u001b[31mERROR: azureml-train-automl-runtime 1.0.85.5 has requirement wheel==0.30.0, but you'll have wheel 0.33.6 which is incompatible.\u001b[0m\n",
      "\u001b[31mERROR: azureml-datadrift 1.0.85 has requirement azureml-core==1.0.85.*, but you'll have azureml-core 1.3.0 which is incompatible.\u001b[0m\n",
      "\u001b[31mERROR: azureml-datadrift 1.0.85 has requirement azureml-dataprep[fuse,pandas]<1.2.0a,>=1.1.37a, but you'll have azureml-dataprep 1.4.3 which is incompatible.\u001b[0m\n",
      "\u001b[31mERROR: azureml-datadrift 1.0.85 has requirement azureml-pipeline-core==1.0.85.*, but you'll have azureml-pipeline-core 1.3.0 which is incompatible.\u001b[0m\n",
      "\u001b[31mERROR: azureml-datadrift 1.0.85 has requirement azureml-pipeline-steps==1.0.85.*, but you'll have azureml-pipeline-steps 1.3.0 which is incompatible.\u001b[0m\n",
      "\u001b[31mERROR: azureml-datadrift 1.0.85 has requirement azureml-telemetry==1.0.85.*, but you'll have azureml-telemetry 1.3.0 which is incompatible.\u001b[0m\n",
      "\u001b[31mERROR: azureml-datadrift 1.0.85 has requirement matplotlib==3.0.2, but you'll have matplotlib 3.1.3 which is incompatible.\u001b[0m\n",
      "\u001b[31mERROR: azureml-contrib-datadrift 1.0.85 has requirement azureml-core==1.0.85.*, but you'll have azureml-core 1.3.0 which is incompatible.\u001b[0m\n",
      "\u001b[31mERROR: azureml-contrib-datadrift 1.0.85 has requirement azureml-dataprep[fuse,pandas]<1.2.0a,>=1.1.37a, but you'll have azureml-dataprep 1.4.3 which is incompatible.\u001b[0m\n",
      "\u001b[31mERROR: azureml-contrib-datadrift 1.0.85 has requirement azureml-pipeline-core==1.0.85.*, but you'll have azureml-pipeline-core 1.3.0 which is incompatible.\u001b[0m\n",
      "\u001b[31mERROR: azureml-contrib-datadrift 1.0.85 has requirement azureml-pipeline-steps==1.0.85.*, but you'll have azureml-pipeline-steps 1.3.0 which is incompatible.\u001b[0m\n",
      "\u001b[31mERROR: azureml-contrib-datadrift 1.0.85 has requirement azureml-telemetry==1.0.85.*, but you'll have azureml-telemetry 1.3.0 which is incompatible.\u001b[0m\n",
      "\u001b[31mERROR: azureml-automl-runtime 1.0.85.5 has requirement azureml-automl-core==1.0.85.*, but you'll have azureml-automl-core 1.3.0 which is incompatible.\u001b[0m\n",
      "\u001b[31mERROR: azureml-automl-runtime 1.0.85.5 has requirement azureml-dataprep[fuse,pandas]<1.2.0a,>=1.1.37a, but you'll have azureml-dataprep 1.4.3 which is incompatible.\u001b[0m\n",
      "\u001b[31mERROR: azureml-automl-runtime 1.0.85.5 has requirement scikit-learn<=0.20.3,>=0.19.0, but you'll have scikit-learn 0.22.2.post1 which is incompatible.\u001b[0m\n",
      "\u001b[31mERROR: azureml-automl-runtime 1.0.85.5 has requirement scipy<=1.1.0,>=1.0.0, but you'll have scipy 1.4.1 which is incompatible.\u001b[0m\n",
      "\u001b[31mERROR: azureml-automl-runtime 1.0.85.5 has requirement wheel==0.30.0, but you'll have wheel 0.33.6 which is incompatible.\u001b[0m\n",
      "Installing collected packages: scikit-learn\n",
      "  Found existing installation: scikit-learn 0.20.3\n",
      "    Uninstalling scikit-learn-0.20.3:\n",
      "      Successfully uninstalled scikit-learn-0.20.3\n",
      "Successfully installed scikit-learn-0.22.2.post1\n"
     ]
    }
   ],
   "source": [
    "!pip install --upgrade scikit-learn"
   ]
  },
  {
   "cell_type": "code",
   "execution_count": 22,
   "metadata": {},
   "outputs": [
    {
     "name": "stdout",
     "output_type": "stream",
     "text": [
      "0.20.3\n"
     ]
    }
   ],
   "source": [
    "# sckit learn version\n",
    "import sklearn\n",
    "print(sklearn.__version__)"
   ]
  },
  {
   "cell_type": "markdown",
   "metadata": {},
   "source": [
    "## Initialize workspace"
   ]
  },
  {
   "cell_type": "code",
   "execution_count": 2,
   "metadata": {},
   "outputs": [
    {
     "name": "stdout",
     "output_type": "stream",
     "text": [
      "sandboxaml\twesteurope\trg-sandbox\twesteurope\n"
     ]
    }
   ],
   "source": [
    "# load workspace configuration from the config.json file in the current folder.\n",
    "ws = Workspace.from_config()\n",
    "\n",
    "print(ws.name, ws.location, ws.resource_group, ws.location, sep='\\t')\n"
   ]
  },
  {
   "cell_type": "markdown",
   "metadata": {},
   "source": [
    "## Create an experiment"
   ]
  },
  {
   "cell_type": "code",
   "execution_count": 3,
   "metadata": {},
   "outputs": [
    {
     "data": {
      "text/html": [
       "<table style=\"width:100%\"><tr><th>Name</th><th>Workspace</th><th>Report Page</th><th>Docs Page</th></tr><tr><td>diabetes_exp</td><td>sandboxaml</td><td><a href=\"https://ml.azure.com/experiments/diabetes_exp?wsid=/subscriptions/f80606e5-788f-4dc3-a9ea-2eb9a7836082/resourcegroups/rg-sandbox/workspaces/sandboxaml\" target=\"_blank\" rel=\"noopener\">Link to Azure Machine Learning studio</a></td><td><a href=\"https://docs.microsoft.com/en-us/python/api/azureml-core/azureml.core.experiment.Experiment?view=azure-ml-py\" target=\"_blank\" rel=\"noopener\">Link to Documentation</a></td></tr></table>"
      ],
      "text/plain": [
       "Experiment(Name: diabetes_exp,\n",
       "Workspace: sandboxaml)"
      ]
     },
     "execution_count": 3,
     "metadata": {},
     "output_type": "execute_result"
    }
   ],
   "source": [
    "experiment_name = 'diabetes_exp'\n",
    "\n",
    "from azureml.core import Experiment\n",
    "exp = Experiment(workspace=ws, name=experiment_name)\n",
    "\n",
    "exp\n"
   ]
  },
  {
   "cell_type": "markdown",
   "metadata": {},
   "source": [
    "## Upload dataset"
   ]
  },
  {
   "cell_type": "code",
   "execution_count": 4,
   "metadata": {},
   "outputs": [],
   "source": [
    "from azureml.core import Dataset\n",
    "\n",
    "diabetes_dataset = Dataset.get_by_name(ws, name='diabetes')\n"
   ]
  },
  {
   "cell_type": "code",
   "execution_count": 5,
   "metadata": {},
   "outputs": [],
   "source": [
    "diabetes = diabetes_dataset.to_pandas_dataframe().drop(\"Path\", axis=1)"
   ]
  },
  {
   "cell_type": "code",
   "execution_count": 6,
   "metadata": {},
   "outputs": [
    {
     "data": {
      "text/html": [
       "<div>\n",
       "<style scoped>\n",
       "    .dataframe tbody tr th:only-of-type {\n",
       "        vertical-align: middle;\n",
       "    }\n",
       "\n",
       "    .dataframe tbody tr th {\n",
       "        vertical-align: top;\n",
       "    }\n",
       "\n",
       "    .dataframe thead th {\n",
       "        text-align: right;\n",
       "    }\n",
       "</style>\n",
       "<table border=\"1\" class=\"dataframe\">\n",
       "  <thead>\n",
       "    <tr style=\"text-align: right;\">\n",
       "      <th></th>\n",
       "      <th>AGE</th>\n",
       "      <th>SEX</th>\n",
       "      <th>BMI</th>\n",
       "      <th>BP</th>\n",
       "      <th>S1</th>\n",
       "      <th>S2</th>\n",
       "      <th>S3</th>\n",
       "      <th>S4</th>\n",
       "      <th>S5</th>\n",
       "      <th>S6</th>\n",
       "      <th>Y</th>\n",
       "    </tr>\n",
       "  </thead>\n",
       "  <tbody>\n",
       "    <tr>\n",
       "      <th>0</th>\n",
       "      <td>59</td>\n",
       "      <td>2</td>\n",
       "      <td>32.1</td>\n",
       "      <td>101.0</td>\n",
       "      <td>157</td>\n",
       "      <td>93.2</td>\n",
       "      <td>38.0</td>\n",
       "      <td>4.0</td>\n",
       "      <td>4.8598</td>\n",
       "      <td>87</td>\n",
       "      <td>151</td>\n",
       "    </tr>\n",
       "    <tr>\n",
       "      <th>1</th>\n",
       "      <td>48</td>\n",
       "      <td>1</td>\n",
       "      <td>21.6</td>\n",
       "      <td>87.0</td>\n",
       "      <td>183</td>\n",
       "      <td>103.2</td>\n",
       "      <td>70.0</td>\n",
       "      <td>3.0</td>\n",
       "      <td>3.8918</td>\n",
       "      <td>69</td>\n",
       "      <td>75</td>\n",
       "    </tr>\n",
       "    <tr>\n",
       "      <th>2</th>\n",
       "      <td>72</td>\n",
       "      <td>2</td>\n",
       "      <td>30.5</td>\n",
       "      <td>93.0</td>\n",
       "      <td>156</td>\n",
       "      <td>93.6</td>\n",
       "      <td>41.0</td>\n",
       "      <td>4.0</td>\n",
       "      <td>4.6728</td>\n",
       "      <td>85</td>\n",
       "      <td>141</td>\n",
       "    </tr>\n",
       "    <tr>\n",
       "      <th>3</th>\n",
       "      <td>24</td>\n",
       "      <td>1</td>\n",
       "      <td>25.3</td>\n",
       "      <td>84.0</td>\n",
       "      <td>198</td>\n",
       "      <td>131.4</td>\n",
       "      <td>40.0</td>\n",
       "      <td>5.0</td>\n",
       "      <td>4.8903</td>\n",
       "      <td>89</td>\n",
       "      <td>206</td>\n",
       "    </tr>\n",
       "    <tr>\n",
       "      <th>4</th>\n",
       "      <td>50</td>\n",
       "      <td>1</td>\n",
       "      <td>23.0</td>\n",
       "      <td>101.0</td>\n",
       "      <td>192</td>\n",
       "      <td>125.4</td>\n",
       "      <td>52.0</td>\n",
       "      <td>4.0</td>\n",
       "      <td>4.2905</td>\n",
       "      <td>80</td>\n",
       "      <td>135</td>\n",
       "    </tr>\n",
       "  </tbody>\n",
       "</table>\n",
       "</div>"
      ],
      "text/plain": [
       "   AGE  SEX   BMI     BP   S1     S2    S3   S4      S5  S6    Y\n",
       "0   59    2  32.1  101.0  157   93.2  38.0  4.0  4.8598  87  151\n",
       "1   48    1  21.6   87.0  183  103.2  70.0  3.0  3.8918  69   75\n",
       "2   72    2  30.5   93.0  156   93.6  41.0  4.0  4.6728  85  141\n",
       "3   24    1  25.3   84.0  198  131.4  40.0  5.0  4.8903  89  206\n",
       "4   50    1  23.0  101.0  192  125.4  52.0  4.0  4.2905  80  135"
      ]
     },
     "execution_count": 6,
     "metadata": {},
     "output_type": "execute_result"
    }
   ],
   "source": [
    "diabetes.head()"
   ]
  },
  {
   "cell_type": "code",
   "execution_count": 7,
   "metadata": {},
   "outputs": [
    {
     "name": "stdout",
     "output_type": "stream",
     "text": [
      "<class 'pandas.core.frame.DataFrame'>\n",
      "RangeIndex: 442 entries, 0 to 441\n",
      "Data columns (total 11 columns):\n",
      "AGE    442 non-null int64\n",
      "SEX    442 non-null int64\n",
      "BMI    442 non-null float64\n",
      "BP     442 non-null float64\n",
      "S1     442 non-null int64\n",
      "S2     442 non-null float64\n",
      "S3     442 non-null float64\n",
      "S4     442 non-null float64\n",
      "S5     442 non-null float64\n",
      "S6     442 non-null int64\n",
      "Y      442 non-null int64\n",
      "dtypes: float64(6), int64(5)\n",
      "memory usage: 38.1 KB\n"
     ]
    }
   ],
   "source": [
    "diabetes.info()"
   ]
  },
  {
   "cell_type": "code",
   "execution_count": 8,
   "metadata": {},
   "outputs": [
    {
     "data": {
      "text/html": [
       "<div>\n",
       "<style scoped>\n",
       "    .dataframe tbody tr th:only-of-type {\n",
       "        vertical-align: middle;\n",
       "    }\n",
       "\n",
       "    .dataframe tbody tr th {\n",
       "        vertical-align: top;\n",
       "    }\n",
       "\n",
       "    .dataframe thead th {\n",
       "        text-align: right;\n",
       "    }\n",
       "</style>\n",
       "<table border=\"1\" class=\"dataframe\">\n",
       "  <thead>\n",
       "    <tr style=\"text-align: right;\">\n",
       "      <th></th>\n",
       "      <th>AGE</th>\n",
       "      <th>SEX</th>\n",
       "      <th>BMI</th>\n",
       "      <th>BP</th>\n",
       "      <th>S1</th>\n",
       "      <th>S2</th>\n",
       "      <th>S3</th>\n",
       "      <th>S4</th>\n",
       "      <th>S5</th>\n",
       "      <th>S6</th>\n",
       "      <th>Y</th>\n",
       "    </tr>\n",
       "  </thead>\n",
       "  <tbody>\n",
       "    <tr>\n",
       "      <th>count</th>\n",
       "      <td>442.000000</td>\n",
       "      <td>442.000000</td>\n",
       "      <td>442.000000</td>\n",
       "      <td>442.000000</td>\n",
       "      <td>442.000000</td>\n",
       "      <td>442.000000</td>\n",
       "      <td>442.000000</td>\n",
       "      <td>442.000000</td>\n",
       "      <td>442.000000</td>\n",
       "      <td>442.000000</td>\n",
       "      <td>442.000000</td>\n",
       "    </tr>\n",
       "    <tr>\n",
       "      <th>mean</th>\n",
       "      <td>48.518100</td>\n",
       "      <td>1.468326</td>\n",
       "      <td>26.375792</td>\n",
       "      <td>94.647014</td>\n",
       "      <td>189.140271</td>\n",
       "      <td>115.439140</td>\n",
       "      <td>49.788462</td>\n",
       "      <td>4.070249</td>\n",
       "      <td>4.641411</td>\n",
       "      <td>91.260181</td>\n",
       "      <td>152.133484</td>\n",
       "    </tr>\n",
       "    <tr>\n",
       "      <th>std</th>\n",
       "      <td>13.109028</td>\n",
       "      <td>0.499561</td>\n",
       "      <td>4.418122</td>\n",
       "      <td>13.831283</td>\n",
       "      <td>34.608052</td>\n",
       "      <td>30.413081</td>\n",
       "      <td>12.934202</td>\n",
       "      <td>1.290450</td>\n",
       "      <td>0.522391</td>\n",
       "      <td>11.496335</td>\n",
       "      <td>77.093005</td>\n",
       "    </tr>\n",
       "    <tr>\n",
       "      <th>min</th>\n",
       "      <td>19.000000</td>\n",
       "      <td>1.000000</td>\n",
       "      <td>18.000000</td>\n",
       "      <td>62.000000</td>\n",
       "      <td>97.000000</td>\n",
       "      <td>41.600000</td>\n",
       "      <td>22.000000</td>\n",
       "      <td>2.000000</td>\n",
       "      <td>3.258100</td>\n",
       "      <td>58.000000</td>\n",
       "      <td>25.000000</td>\n",
       "    </tr>\n",
       "    <tr>\n",
       "      <th>25%</th>\n",
       "      <td>38.250000</td>\n",
       "      <td>1.000000</td>\n",
       "      <td>23.200000</td>\n",
       "      <td>84.000000</td>\n",
       "      <td>164.250000</td>\n",
       "      <td>96.050000</td>\n",
       "      <td>40.250000</td>\n",
       "      <td>3.000000</td>\n",
       "      <td>4.276700</td>\n",
       "      <td>83.250000</td>\n",
       "      <td>87.000000</td>\n",
       "    </tr>\n",
       "    <tr>\n",
       "      <th>50%</th>\n",
       "      <td>50.000000</td>\n",
       "      <td>1.000000</td>\n",
       "      <td>25.700000</td>\n",
       "      <td>93.000000</td>\n",
       "      <td>186.000000</td>\n",
       "      <td>113.000000</td>\n",
       "      <td>48.000000</td>\n",
       "      <td>4.000000</td>\n",
       "      <td>4.620050</td>\n",
       "      <td>91.000000</td>\n",
       "      <td>140.500000</td>\n",
       "    </tr>\n",
       "    <tr>\n",
       "      <th>75%</th>\n",
       "      <td>59.000000</td>\n",
       "      <td>2.000000</td>\n",
       "      <td>29.275000</td>\n",
       "      <td>105.000000</td>\n",
       "      <td>209.750000</td>\n",
       "      <td>134.500000</td>\n",
       "      <td>57.750000</td>\n",
       "      <td>5.000000</td>\n",
       "      <td>4.997200</td>\n",
       "      <td>98.000000</td>\n",
       "      <td>211.500000</td>\n",
       "    </tr>\n",
       "    <tr>\n",
       "      <th>max</th>\n",
       "      <td>79.000000</td>\n",
       "      <td>2.000000</td>\n",
       "      <td>42.200000</td>\n",
       "      <td>133.000000</td>\n",
       "      <td>301.000000</td>\n",
       "      <td>242.400000</td>\n",
       "      <td>99.000000</td>\n",
       "      <td>9.090000</td>\n",
       "      <td>6.107000</td>\n",
       "      <td>124.000000</td>\n",
       "      <td>346.000000</td>\n",
       "    </tr>\n",
       "  </tbody>\n",
       "</table>\n",
       "</div>"
      ],
      "text/plain": [
       "              AGE         SEX         BMI          BP          S1          S2  \\\n",
       "count  442.000000  442.000000  442.000000  442.000000  442.000000  442.000000   \n",
       "mean    48.518100    1.468326   26.375792   94.647014  189.140271  115.439140   \n",
       "std     13.109028    0.499561    4.418122   13.831283   34.608052   30.413081   \n",
       "min     19.000000    1.000000   18.000000   62.000000   97.000000   41.600000   \n",
       "25%     38.250000    1.000000   23.200000   84.000000  164.250000   96.050000   \n",
       "50%     50.000000    1.000000   25.700000   93.000000  186.000000  113.000000   \n",
       "75%     59.000000    2.000000   29.275000  105.000000  209.750000  134.500000   \n",
       "max     79.000000    2.000000   42.200000  133.000000  301.000000  242.400000   \n",
       "\n",
       "               S3          S4          S5          S6           Y  \n",
       "count  442.000000  442.000000  442.000000  442.000000  442.000000  \n",
       "mean    49.788462    4.070249    4.641411   91.260181  152.133484  \n",
       "std     12.934202    1.290450    0.522391   11.496335   77.093005  \n",
       "min     22.000000    2.000000    3.258100   58.000000   25.000000  \n",
       "25%     40.250000    3.000000    4.276700   83.250000   87.000000  \n",
       "50%     48.000000    4.000000    4.620050   91.000000  140.500000  \n",
       "75%     57.750000    5.000000    4.997200   98.000000  211.500000  \n",
       "max     99.000000    9.090000    6.107000  124.000000  346.000000  "
      ]
     },
     "execution_count": 8,
     "metadata": {},
     "output_type": "execute_result"
    }
   ],
   "source": [
    "diabetes.describe()"
   ]
  },
  {
   "cell_type": "code",
   "execution_count": 9,
   "metadata": {},
   "outputs": [],
   "source": [
    "features_names = ['age', 'sex', 'bmi', 'bp', 's1', 's2', 's3', 's4', 's5', 's6']\n",
    "target = \"Y\""
   ]
  },
  {
   "cell_type": "markdown",
   "metadata": {},
   "source": [
    "## Create a (remote) target compute"
   ]
  },
  {
   "cell_type": "code",
   "execution_count": null,
   "metadata": {},
   "outputs": [],
   "source": [
    "# Compute target creation\n",
    "\n",
    "from azureml.core.compute import ComputeTarget, AmlCompute\n",
    "from azureml.core.compute_target import ComputeTargetException\n",
    "\n",
    "cpu_cluster_name = \"myComputeCluster\"\n",
    "\n",
    "# Verify that cluster does not exist already\n",
    "try:\n",
    "    cpu_cluster = ComputeTarget(workspace=ws, name=cpu_cluster_name)\n",
    "    print(\" Cluster already exists\")\n",
    "except ComputeTargetException:\n",
    "    compute_config = AmlCompute.provisioning_configuration(vm_size='STANDARD_D2_V2',\n",
    "                                                           min_nodes=0, max_nodes=4)\n",
    "    cpu_cluster = ComputeTarget.create(ws, cpu_cluster_name, compute_config)\n",
    "\n",
    "cpu_cluster.wait_for_completion(show_output=True, min_node_count=0, timeout_in_minutes=30)"
   ]
  },
  {
   "cell_type": "code",
   "execution_count": 10,
   "metadata": {},
   "outputs": [
    {
     "name": "stdout",
     "output_type": "stream",
     "text": [
      "Succeeded\n"
     ]
    }
   ],
   "source": [
    "# Retrieve existing compute target\n",
    "\n",
    "from azureml.core.compute import ComputeTarget\n",
    "\n",
    "compute_target_name = \"computetarget\"\n",
    "compute_target = ComputeTarget(workspace=ws, name=compute_target_name)\n",
    "\n",
    "print(compute_target.provisioning_state)"
   ]
  },
  {
   "cell_type": "markdown",
   "metadata": {},
   "source": [
    "## Train the model"
   ]
  },
  {
   "cell_type": "markdown",
   "metadata": {},
   "source": [
    "### Train the model on a remote target compute"
   ]
  },
  {
   "cell_type": "code",
   "execution_count": 11,
   "metadata": {},
   "outputs": [],
   "source": [
    "import os\n",
    "script_folder = os.path.join(os.getcwd(), \"remote_train\")\n",
    "os.makedirs(script_folder, exist_ok=True)"
   ]
  },
  {
   "cell_type": "code",
   "execution_count": 21,
   "metadata": {},
   "outputs": [
    {
     "name": "stdout",
     "output_type": "stream",
     "text": [
      "Overwriting /mnt/batch/tasks/shared/LS_root/mounts/clusters/sandboxvm/code/users/paul.peton/Diabetes/remote_train/train.py\n"
     ]
    }
   ],
   "source": [
    "%%writefile $script_folder/train.py\n",
    "\n",
    "import argparse\n",
    "import os\n",
    "import numpy as np\n",
    "import glob\n",
    "\n",
    "from sklearn.model_selection import train_test_split\n",
    "from sklearn.linear_model import Ridge\n",
    "from sklearn.externals import joblib\n",
    "import pickle\n",
    "\n",
    "from azureml.core import Run\n",
    "from azureml.core import Dataset\n",
    "from utils import load_data\n",
    "\n",
    "from azureml.core.authentication import ServicePrincipalAuthentication\n",
    "sp = ServicePrincipalAuthentication(tenant_id=os.environ.get('AML_TENANT_ID'),\n",
    "                               service_principal_id=os.environ.get('AML_PRINCIPAL_ID'),\n",
    "                                    service_principal_password=os.environ.get('AML_PRINCIPAL_PASS'))\n",
    "\n",
    "from azureml.core import Workspace\n",
    "ws = Workspace.get(name=\"sandboxaml\",\n",
    "                   resource_group=\"rg-sandbox\",\n",
    "                   subscription_id=os.environ.get('SUBSCRIPTION_ID'),\n",
    "                   auth=sp)\n",
    "ws.get_details()\n",
    "print(\"Found workspace {} at location {}\".format(ws.name, ws.location))\n",
    "\n",
    "parser = argparse.ArgumentParser()\n",
    "parser.add_argument('--regularization', type=float, dest='reg', default=0.5, help='regularization strength')\n",
    "args = parser.parse_args()\n",
    "\n",
    "# load train and test set into numpy arrays\n",
    "diabetes_dataset = Dataset.get_by_name(ws, name='diabetes')\n",
    "diabetes = diabetes_dataset.to_pandas_dataframe().drop(\"Path\", axis=1)\n",
    "target = \"Y\"\n",
    "X = diabetes.drop(target, axis=1)\n",
    "y = diabetes[\"Y\"].values.reshape(-1,1)\n",
    "\n",
    "X_train, X_test, y_train, y_test = train_test_split(X, y, test_size=0.2, random_state=42)\n",
    "\n",
    "# get hold of the current run\n",
    "run = Run.get_context()\n",
    "\n",
    "print('Train a Ridge regression model with regularization strength of', args.reg)\n",
    "model = Ridge(alpha=args.reg, solver=\"auto\", random_state=42)\n",
    "model.fit(X_train, y_train)\n",
    "\n",
    "print('Predict the test set')\n",
    "y_hat = model.predict(X_test)\n",
    "\n",
    "# calculate score on the prediction\n",
    "score = model.score(X_test, y_test)\n",
    "print('Score is ', score)\n",
    "\n",
    "run.log('regularization strength', np.float(args.reg))\n",
    "run.log('score', np.float(score))\n",
    "\n",
    "os.makedirs('outputs', exist_ok=True)\n",
    "# note file saved in the outputs folder is automatically uploaded into experiment record\n",
    "joblib.dump(value=model, filename='outputs/diabetes_reg_remote_model.pkl')"
   ]
  },
  {
   "cell_type": "code",
   "execution_count": null,
   "metadata": {},
   "outputs": [],
   "source": [
    "import shutil\n",
    "shutil.copy('utils.py', script_folder)"
   ]
  },
  {
   "cell_type": "code",
   "execution_count": 13,
   "metadata": {},
   "outputs": [
    {
     "data": {
      "text/plain": [
       "'diabetes_env.yml'"
      ]
     },
     "execution_count": 13,
     "metadata": {},
     "output_type": "execute_result"
    }
   ],
   "source": [
    "# Set up the (compute target) environnement\n",
    "\n",
    "from azureml.core import Environment\n",
    "from azureml.core.conda_dependencies import CondaDependencies\n",
    "\n",
    "\n",
    "env = Environment(\"diabetes_remote_env\")\n",
    "\n",
    "env.docker.enabled = True\n",
    "env.python.conda_dependencies = CondaDependencies.create(conda_packages=['scikit-learn',\n",
    "                                                                          'pandas',\n",
    "                                                                          'numpy',\n",
    "                                                                          'joblib',                                                                        \n",
    "                                                                          'matplotlib'\n",
    "                                                                         ])\n",
    "env.python.conda_dependencies.add_pip_package(\"inference-schema[numpy-support]\")\n",
    "\n",
    "env.python.conda_dependencies.save_to_file(\".\", \"diabetes_env.yml\")\n"
   ]
  },
  {
   "cell_type": "code",
   "execution_count": 14,
   "metadata": {},
   "outputs": [],
   "source": [
    "from azureml.train.estimator import Estimator\n",
    "\n",
    "script_params = {\n",
    "    '--regularization': 0.5\n",
    "}\n",
    "\n",
    "est = Estimator(source_directory=script_folder,\n",
    "              script_params=script_params,\n",
    "              compute_target=compute_target,\n",
    "              environment_definition=env,\n",
    "              entry_script='train.py')\n"
   ]
  },
  {
   "cell_type": "code",
   "execution_count": null,
   "metadata": {},
   "outputs": [],
   "source": [
    "from azureml.widgets import RunDetails\n",
    "RunDetails(run).show()"
   ]
  },
  {
   "cell_type": "code",
   "execution_count": null,
   "metadata": {},
   "outputs": [],
   "source": [
    "run = exp.submit(config=est)\n",
    "run"
   ]
  },
  {
   "cell_type": "code",
   "execution_count": null,
   "metadata": {},
   "outputs": [],
   "source": [
    "# specify show_output to True for a verbose log\n",
    "run.wait_for_completion(show_output=True) "
   ]
  },
  {
   "cell_type": "markdown",
   "metadata": {},
   "source": [
    "Pipeline"
   ]
  },
  {
   "cell_type": "code",
   "execution_count": 23,
   "metadata": {},
   "outputs": [],
   "source": [
    "from azureml.pipeline.core import Pipeline\n",
    "from azureml.pipeline.steps import PythonScriptStep\n",
    "\n",
    "pipeline_steps = [ PythonScriptStep(\n",
    "    script_name=\"train.py\",\n",
    "    #arguments=[\"--input\", input_data, \"--output\", output_data],\n",
    "    #inputs=[input_data],\n",
    "    #outputs=[output_data],\n",
    "    compute_target=compute_target,\n",
    "    #runconfig=???,\n",
    "    source_directory=\"remote_train\"\n",
    ") ]\n"
   ]
  },
  {
   "cell_type": "code",
   "execution_count": 24,
   "metadata": {},
   "outputs": [
    {
     "name": "stdout",
     "output_type": "stream",
     "text": [
      "Created step train.py [c38b1612][a292cc06-fcce-4f17-8551-1ea28c70d060], (This step will run and generate new outputs)\n",
      "Submitted PipelineRun a91e704c-910d-4835-8b89-8552150ad216\n",
      "Link to Azure Machine Learning Portal: https://ml.azure.com/experiments/diabetes_exp/runs/a91e704c-910d-4835-8b89-8552150ad216?wsid=/subscriptions/f80606e5-788f-4dc3-a9ea-2eb9a7836082/resourcegroups/rg-sandbox/workspaces/sandboxaml\n"
     ]
    },
    {
     "data": {
      "application/vnd.jupyter.widget-view+json": {
       "model_id": "7a6d7db22b7144a2a6224aec3d60ac19",
       "version_major": 2,
       "version_minor": 0
      },
      "text/plain": [
       "_PipelineWidget(widget_settings={'childWidgetDisplay': 'popup', 'send_telemetry': False, 'log_level': 'INFO', …"
      ]
     },
     "metadata": {},
     "output_type": "display_data"
    },
    {
     "data": {
      "application/aml.mini.widget.v1": "{\"status\": \"NotStarted\", \"workbench_run_details_uri\": \"https://ml.azure.com/experiments/diabetes_exp/runs/a91e704c-910d-4835-8b89-8552150ad216?wsid=/subscriptions/f80606e5-788f-4dc3-a9ea-2eb9a7836082/resourcegroups/rg-sandbox/workspaces/sandboxaml\", \"run_id\": \"a91e704c-910d-4835-8b89-8552150ad216\", \"run_properties\": {\"run_id\": \"a91e704c-910d-4835-8b89-8552150ad216\", \"created_utc\": \"2020-04-25T07:37:52.810428Z\", \"properties\": {\"azureml.runsource\": \"azureml.PipelineRun\", \"runSource\": \"SDK\", \"runType\": \"SDK\", \"azureml.parameters\": \"{}\"}, \"tags\": {\"azureml.pipelineComponent\": \"pipelinerun\"}, \"end_time_utc\": null, \"status\": \"NotStarted\", \"log_files\": {}, \"log_groups\": [], \"run_duration\": \"0:00:01\"}, \"child_runs\": [{\"run_id\": \"\", \"name\": \"train.py\", \"status\": \"NotStarted\", \"start_time\": \"\", \"created_time\": \"\", \"end_time\": \"\", \"duration\": \"\"}], \"children_metrics\": {}, \"run_metrics\": [], \"run_logs\": \"Your job is submitted in Azure cloud and we are monitoring to get logs...\", \"graph\": {\"datasource_nodes\": {}, \"module_nodes\": {\"c38b1612\": {\"node_id\": \"c38b1612\", \"name\": \"train.py\", \"status\": \"NotStarted\"}}, \"edges\": [], \"child_runs\": [{\"run_id\": \"\", \"name\": \"train.py\", \"status\": \"NotStarted\", \"start_time\": \"\", \"created_time\": \"\", \"end_time\": \"\", \"duration\": \"\"}]}, \"widget_settings\": {\"childWidgetDisplay\": \"popup\", \"send_telemetry\": false, \"log_level\": \"INFO\", \"sdk_version\": \"1.3.0\"}, \"loading\": false}"
     },
     "metadata": {},
     "output_type": "display_data"
    }
   ],
   "source": [
    "from azureml.widgets import RunDetails\n",
    "\n",
    "pipeline = Pipeline(workspace = ws, steps=pipeline_steps)\n",
    "pipeline_run = exp.submit(pipeline, regenerate_outputs=False)\n",
    "\n",
    "RunDetails(pipeline_run).show()\n"
   ]
  },
  {
   "cell_type": "code",
   "execution_count": null,
   "metadata": {},
   "outputs": [
    {
     "name": "stdout",
     "output_type": "stream",
     "text": [
      "PipelineRunId: a91e704c-910d-4835-8b89-8552150ad216\n",
      "Link to Azure Machine Learning Portal: https://ml.azure.com/experiments/diabetes_exp/runs/a91e704c-910d-4835-8b89-8552150ad216?wsid=/subscriptions/f80606e5-788f-4dc3-a9ea-2eb9a7836082/resourcegroups/rg-sandbox/workspaces/sandboxaml\n",
      "PipelineRun Status: NotStarted\n",
      "PipelineRun Status: Running\n",
      "\n",
      "\n",
      "StepRunId: ddb86316-f195-4a38-9f77-861835f1cbe3\n",
      "Link to Azure Machine Learning Portal: https://ml.azure.com/experiments/diabetes_exp/runs/ddb86316-f195-4a38-9f77-861835f1cbe3?wsid=/subscriptions/f80606e5-788f-4dc3-a9ea-2eb9a7836082/resourcegroups/rg-sandbox/workspaces/sandboxaml\n",
      "StepRun( train.py ) Status: NotStarted\n"
     ]
    }
   ],
   "source": [
    "# specify show_output to True for a verbose log\n",
    "pipeline_run.wait_for_completion(show_output=True) "
   ]
  },
  {
   "cell_type": "markdown",
   "metadata": {},
   "source": [
    "Scheduler"
   ]
  },
  {
   "cell_type": "code",
   "execution_count": null,
   "metadata": {},
   "outputs": [],
   "source": [
    "from azureml.pipeline.core import Pipeline, PublishedPipeline\n",
    "\n",
    "published_pipelines = PublishedPipeline.list(ws)\n",
    "\n",
    "for published_pipeline in  published_pipelines:\n",
    "    print(f\"{published_pipeline.name},'{published_pipeline.id}'\")\n"
   ]
  },
  {
   "cell_type": "code",
   "execution_count": null,
   "metadata": {},
   "outputs": [],
   "source": [
    "from azureml.pipeline.core import Schedule, ScheduleRecurrence\n",
    "\n",
    "recurrence = ScheduleRecurrence(frequency=\"Minute\", interval=15)\n",
    "recurring_schedule = Schedule.create(ws, name=\"MyRecurringSchedule\", \n",
    "                            description=\"Based on time\",\n",
    "                            pipeline_id=pipeline_id, \n",
    "                            experiment_name=experiment_name, \n",
    "                            recurrence=recurrence)"
   ]
  },
  {
   "cell_type": "code",
   "execution_count": null,
   "metadata": {},
   "outputs": [],
   "source": [
    "pipeline = PublishedPipeline.get(ws, id=pipeline_id)\n",
    "pipeline.disable()\n"
   ]
  },
  {
   "cell_type": "markdown",
   "metadata": {},
   "source": [
    "## Register the model"
   ]
  },
  {
   "cell_type": "code",
   "execution_count": null,
   "metadata": {},
   "outputs": [],
   "source": [
    "print(run.get_file_names())"
   ]
  },
  {
   "cell_type": "code",
   "execution_count": null,
   "metadata": {},
   "outputs": [],
   "source": [
    "# register model \n",
    "model = run.register_model(model_name='diabetes_ridge_regression', model_path='outputs/diabetes_reg_remote_model.pkl')\n",
    "\n",
    "print(model.name, model.id, model.version, sep='\\t')"
   ]
  },
  {
   "cell_type": "markdown",
   "metadata": {},
   "source": [
    "## Create a scoring script"
   ]
  },
  {
   "cell_type": "code",
   "execution_count": null,
   "metadata": {},
   "outputs": [],
   "source": [
    "%%writefile score.py\n",
    "\n",
    "import joblib\n",
    "import numpy as np\n",
    "import os\n",
    "\n",
    "from inference_schema.schema_decorators import input_schema, output_schema\n",
    "from inference_schema.parameter_types.numpy_parameter_type import NumpyParameterType\n",
    "\n",
    "\n",
    "# The init() method is called once, when the web service starts up.\n",
    "#\n",
    "# Typically you would deserialize the model file, as shown here using joblib,\n",
    "# and store it in a global variable so your run() method can access it later.\n",
    "def init():\n",
    "    global model\n",
    "\n",
    "    # The AZUREML_MODEL_DIR environment variable indicates\n",
    "    # a directory containing the model file you registered.\n",
    "    model_filename = 'diabetes_regression_model.pkl'\n",
    "    model_path = os.path.join(os.environ['AZUREML_MODEL_DIR'], model_filename)\n",
    "\n",
    "    model = joblib.load(model_path)\n",
    "\n",
    "\n",
    "# The run() method is called each time a request is made to the scoring API.\n",
    "#\n",
    "# Shown here are the optional input_schema and output_schema decorators\n",
    "# from the inference-schema pip package. Using these decorators on your\n",
    "# run() method parses and validates the incoming payload against\n",
    "# the example input you provide here. This will also generate a Swagger\n",
    "# API document for your web service.\n",
    "@input_schema('data', NumpyParameterType(np.array([[59, 2, 32.1, 101.0, 157, 93.2, 38.0, 4.0, 4.8598, 87]])))\n",
    "@output_schema(NumpyParameterType(np.array([151.000])))\n",
    "def run(data):\n",
    "    # Use the model object loaded by init().\n",
    "    result = model.predict(data)\n",
    "\n",
    "    # You can return any JSON-serializable object.\n",
    "    return result.tolist()"
   ]
  },
  {
   "cell_type": "markdown",
   "metadata": {},
   "source": [
    "## Define the (inference) environement"
   ]
  },
  {
   "cell_type": "code",
   "execution_count": null,
   "metadata": {},
   "outputs": [],
   "source": [
    "from azureml.core import Environment\n",
    "from azureml.core.conda_dependencies import CondaDependencies\n",
    "\n",
    "\n",
    "environment = Environment('my-sklearn-environment')\n",
    "environment.python.conda_dependencies = CondaDependencies.create(pip_packages=[\n",
    "    'azureml-defaults',\n",
    "    'inference-schema[numpy-support]',\n",
    "    'joblib',\n",
    "    'numpy',\n",
    "    'scikit-learn'\n",
    "])\n"
   ]
  },
  {
   "cell_type": "markdown",
   "metadata": {},
   "source": [
    "## Define a inference configuration"
   ]
  },
  {
   "cell_type": "code",
   "execution_count": null,
   "metadata": {},
   "outputs": [],
   "source": [
    "from azureml.core.model import InferenceConfig\n",
    "\n",
    "\n",
    "inference_config = InferenceConfig(entry_script='score.py', environment=environment)"
   ]
  },
  {
   "cell_type": "markdown",
   "metadata": {},
   "source": [
    "## Deploy in a custom environment"
   ]
  },
  {
   "cell_type": "code",
   "execution_count": null,
   "metadata": {},
   "outputs": [],
   "source": [
    "from azureml.core import Webservice\n",
    "from azureml.core.webservice import AciWebservice\n",
    "from azureml.exceptions import WebserviceException\n",
    "\n",
    "\n",
    "service_name = 'diabetes-custom-service'\n",
    "\n",
    "# Remove any existing service under the same name.\n",
    "try:\n",
    "    Webservice(ws, service_name).delete()\n",
    "except WebserviceException:\n",
    "    pass\n",
    "\n",
    "aci_config = AciWebservice.deploy_configuration(cpu_cores=1, memory_gb=1)\n",
    "\n",
    "service = Model.deploy(workspace=ws,\n",
    "                       name=service_name,\n",
    "                       models=[model],\n",
    "                       inference_config=inference_config,\n",
    "                       deployment_config=aci_config)\n",
    "\n",
    "service.wait_for_deployment(show_output=True)\n"
   ]
  },
  {
   "cell_type": "code",
   "execution_count": null,
   "metadata": {},
   "outputs": [],
   "source": [
    "# reload the model\n",
    "\n",
    "from azureml.core import Webservice\n",
    "\n",
    "\n",
    "service_name = 'diabetes-remoteTrain-service'\n",
    "service = Webservice(ws, service_name)\n",
    "\n",
    "print(service.name, service.scoring_uri, sep='\\t')\n"
   ]
  },
  {
   "cell_type": "markdown",
   "metadata": {},
   "source": [
    "## Test the service"
   ]
  },
  {
   "cell_type": "code",
   "execution_count": null,
   "metadata": {},
   "outputs": [],
   "source": [
    "import json\n",
    "\n",
    "input_payload = json.dumps({\n",
    "    'data': [\n",
    "        [59, 2, 32.1, 101.0, 157, 93.2, 38.0, 4.0, 4.8598, 87],\n",
    "        [69, 2, 32.1, 101.0, 157, 93.2, 38.0, 4.0, 4.8598, 87]\n",
    "    ],\n",
    "    'method': 'predict'  # If you have a classification model, you can get probabilities by changing this to 'predict_proba'.\n",
    "})\n",
    "\n",
    "output = service.run(input_payload)\n",
    "\n",
    "print(output)\n"
   ]
  },
  {
   "cell_type": "code",
   "execution_count": null,
   "metadata": {},
   "outputs": [],
   "source": [
    "service.delete()"
   ]
  }
 ],
 "metadata": {
  "kernelspec": {
   "display_name": "Python 3.6 - AzureML",
   "language": "python",
   "name": "python3-azureml"
  },
  "language_info": {
   "codemirror_mode": {
    "name": "ipython",
    "version": 3
   },
   "file_extension": ".py",
   "mimetype": "text/x-python",
   "name": "python",
   "nbconvert_exporter": "python",
   "pygments_lexer": "ipython3",
   "version": "3.6.9"
  }
 },
 "nbformat": 4,
 "nbformat_minor": 4
}
