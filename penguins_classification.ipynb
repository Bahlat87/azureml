{
 "cells": [
  {
   "cell_type": "code",
   "execution_count": 1,
   "metadata": {},
   "outputs": [],
   "source": [
    "import pandas as pd\n",
    "import numpy as np"
   ]
  },
  {
   "cell_type": "code",
   "execution_count": 2,
   "metadata": {},
   "outputs": [
    {
     "name": "stdout",
     "output_type": "stream",
     "text": [
      "Azure ML SDK Version:  1.6.0\n"
     ]
    }
   ],
   "source": [
    "import azureml.core\n",
    "from azureml.core import Workspace\n",
    "\n",
    "# check core SDK version number\n",
    "print(\"Azure ML SDK Version: \", azureml.core.VERSION)\n"
   ]
  },
  {
   "cell_type": "code",
   "execution_count": 3,
   "metadata": {},
   "outputs": [],
   "source": [
    "# load workspace configuration from the config.json file in the current folder.\n",
    "ws = Workspace.from_config()\n"
   ]
  },
  {
   "cell_type": "code",
   "execution_count": 32,
   "metadata": {},
   "outputs": [],
   "source": [
    "from azureml.core import Experiment\n",
    "experiment_name = 'penguins-automatedML'\n",
    "\n",
    "experiment = Experiment(workspace=ws, name=experiment_name)"
   ]
  },
  {
   "cell_type": "code",
   "execution_count": 25,
   "metadata": {},
   "outputs": [
    {
     "name": "stdout",
     "output_type": "stream",
     "text": [
      "creating a new compute target...\n",
      "Creating\n",
      "Succeeded\n",
      "AmlCompute wait for completion finished\n",
      "\n",
      "Minimum number of nodes requested have been provisioned\n",
      "{'currentNodeCount': 0, 'targetNodeCount': 0, 'nodeStateCounts': {'preparingNodeCount': 0, 'runningNodeCount': 0, 'idleNodeCount': 0, 'unusableNodeCount': 0, 'leavingNodeCount': 0, 'preemptedNodeCount': 0}, 'allocationState': 'Steady', 'allocationStateTransitionTime': '2020-06-15T09:55:57.874000+00:00', 'errors': None, 'creationTime': '2020-06-15T09:55:50.001362+00:00', 'modifiedTime': '2020-06-15T09:56:05.614194+00:00', 'provisioningState': 'Succeeded', 'provisioningStateTransitionTime': None, 'scaleSettings': {'minNodeCount': 0, 'maxNodeCount': 2, 'nodeIdleTimeBeforeScaleDown': 'PT120S'}, 'vmPriority': 'Dedicated', 'vmSize': 'STANDARD_D2_V2'}\n"
     ]
    }
   ],
   "source": [
    "from azureml.core.compute import AmlCompute\n",
    "from azureml.core.compute import ComputeTarget\n",
    "import os\n",
    "\n",
    "# choose a name for your cluster\n",
    "compute_name = os.environ.get(\"AML_COMPUTE_CLUSTER_NAME\", \"ds3-comptute-cls\")\n",
    "compute_min_nodes = os.environ.get(\"AML_COMPUTE_CLUSTER_MIN_NODES\", 0)\n",
    "compute_max_nodes = os.environ.get(\"AML_COMPUTE_CLUSTER_MAX_NODES\", 2)\n",
    "\n",
    "# This example uses CPU VM. For using GPU VM, set SKU to STANDARD_NC6\n",
    "vm_size = os.environ.get(\"AML_COMPUTE_CLUSTER_SKU\", \"STANDARD_D2_V2\")\n",
    "\n",
    "\n",
    "if compute_name in ws.compute_targets:\n",
    "    compute_target = ws.compute_targets[compute_name]\n",
    "    if compute_target and type(compute_target) is AmlCompute:\n",
    "        print('found compute target. just use it. ' + compute_name)\n",
    "else:\n",
    "    print('creating a new compute target...')\n",
    "    provisioning_config = AmlCompute.provisioning_configuration(vm_size=vm_size,\n",
    "                                                                min_nodes=compute_min_nodes,\n",
    "                                                                max_nodes=compute_max_nodes)\n",
    "\n",
    "    # create the cluster\n",
    "    compute_target = ComputeTarget.create(\n",
    "        ws, compute_name, provisioning_config)\n",
    "\n",
    "    # can poll for a minimum number of nodes and for a specific timeout.\n",
    "    # if no min node count is provided it will use the scale settings for the cluster\n",
    "    compute_target.wait_for_completion(\n",
    "        show_output=True, min_node_count=None, timeout_in_minutes=20)\n",
    "\n",
    "    # For a more detailed view of current AmlCompute status, use get_status()\n",
    "    print(compute_target.get_status().serialize())"
   ]
  },
  {
   "cell_type": "code",
   "execution_count": 6,
   "metadata": {},
   "outputs": [
    {
     "data": {
      "text/html": [
       "<div>\n",
       "<style scoped>\n",
       "    .dataframe tbody tr th:only-of-type {\n",
       "        vertical-align: middle;\n",
       "    }\n",
       "\n",
       "    .dataframe tbody tr th {\n",
       "        vertical-align: top;\n",
       "    }\n",
       "\n",
       "    .dataframe thead th {\n",
       "        text-align: right;\n",
       "    }\n",
       "</style>\n",
       "<table border=\"1\" class=\"dataframe\">\n",
       "  <thead>\n",
       "    <tr style=\"text-align: right;\">\n",
       "      <th></th>\n",
       "      <th>studyName</th>\n",
       "      <th>Sample Number</th>\n",
       "      <th>Species</th>\n",
       "      <th>Region</th>\n",
       "      <th>Island</th>\n",
       "      <th>Stage</th>\n",
       "      <th>Individual ID</th>\n",
       "      <th>Clutch Completion</th>\n",
       "      <th>Date Egg</th>\n",
       "      <th>Culmen Length (mm)</th>\n",
       "      <th>Culmen Depth (mm)</th>\n",
       "      <th>Flipper Length (mm)</th>\n",
       "      <th>Body Mass (g)</th>\n",
       "      <th>Sex</th>\n",
       "      <th>Delta 15 N (o/oo)</th>\n",
       "      <th>Delta 13 C (o/oo)</th>\n",
       "      <th>Comments</th>\n",
       "    </tr>\n",
       "  </thead>\n",
       "  <tbody>\n",
       "    <tr>\n",
       "      <th>0</th>\n",
       "      <td>PAL0708</td>\n",
       "      <td>1</td>\n",
       "      <td>Adelie Penguin (Pygoscelis adeliae)</td>\n",
       "      <td>Anvers</td>\n",
       "      <td>Torgersen</td>\n",
       "      <td>Adult, 1 Egg Stage</td>\n",
       "      <td>N1A1</td>\n",
       "      <td>Yes</td>\n",
       "      <td>2007-11-11</td>\n",
       "      <td>39.1</td>\n",
       "      <td>18.7</td>\n",
       "      <td>181.0</td>\n",
       "      <td>3750.0</td>\n",
       "      <td>MALE</td>\n",
       "      <td>NaN</td>\n",
       "      <td>NaN</td>\n",
       "      <td>Not enough blood for isotopes.</td>\n",
       "    </tr>\n",
       "    <tr>\n",
       "      <th>1</th>\n",
       "      <td>PAL0708</td>\n",
       "      <td>2</td>\n",
       "      <td>Adelie Penguin (Pygoscelis adeliae)</td>\n",
       "      <td>Anvers</td>\n",
       "      <td>Torgersen</td>\n",
       "      <td>Adult, 1 Egg Stage</td>\n",
       "      <td>N1A2</td>\n",
       "      <td>Yes</td>\n",
       "      <td>2007-11-11</td>\n",
       "      <td>39.5</td>\n",
       "      <td>17.4</td>\n",
       "      <td>186.0</td>\n",
       "      <td>3800.0</td>\n",
       "      <td>FEMALE</td>\n",
       "      <td>8.94956</td>\n",
       "      <td>-24.69454</td>\n",
       "      <td>NaN</td>\n",
       "    </tr>\n",
       "    <tr>\n",
       "      <th>2</th>\n",
       "      <td>PAL0708</td>\n",
       "      <td>3</td>\n",
       "      <td>Adelie Penguin (Pygoscelis adeliae)</td>\n",
       "      <td>Anvers</td>\n",
       "      <td>Torgersen</td>\n",
       "      <td>Adult, 1 Egg Stage</td>\n",
       "      <td>N2A1</td>\n",
       "      <td>Yes</td>\n",
       "      <td>2007-11-16</td>\n",
       "      <td>40.3</td>\n",
       "      <td>18.0</td>\n",
       "      <td>195.0</td>\n",
       "      <td>3250.0</td>\n",
       "      <td>FEMALE</td>\n",
       "      <td>8.36821</td>\n",
       "      <td>-25.33302</td>\n",
       "      <td>NaN</td>\n",
       "    </tr>\n",
       "    <tr>\n",
       "      <th>3</th>\n",
       "      <td>PAL0708</td>\n",
       "      <td>4</td>\n",
       "      <td>Adelie Penguin (Pygoscelis adeliae)</td>\n",
       "      <td>Anvers</td>\n",
       "      <td>Torgersen</td>\n",
       "      <td>Adult, 1 Egg Stage</td>\n",
       "      <td>N2A2</td>\n",
       "      <td>Yes</td>\n",
       "      <td>2007-11-16</td>\n",
       "      <td>NaN</td>\n",
       "      <td>NaN</td>\n",
       "      <td>NaN</td>\n",
       "      <td>NaN</td>\n",
       "      <td>NaN</td>\n",
       "      <td>NaN</td>\n",
       "      <td>NaN</td>\n",
       "      <td>Adult not sampled.</td>\n",
       "    </tr>\n",
       "    <tr>\n",
       "      <th>4</th>\n",
       "      <td>PAL0708</td>\n",
       "      <td>5</td>\n",
       "      <td>Adelie Penguin (Pygoscelis adeliae)</td>\n",
       "      <td>Anvers</td>\n",
       "      <td>Torgersen</td>\n",
       "      <td>Adult, 1 Egg Stage</td>\n",
       "      <td>N3A1</td>\n",
       "      <td>Yes</td>\n",
       "      <td>2007-11-16</td>\n",
       "      <td>36.7</td>\n",
       "      <td>19.3</td>\n",
       "      <td>193.0</td>\n",
       "      <td>3450.0</td>\n",
       "      <td>FEMALE</td>\n",
       "      <td>8.76651</td>\n",
       "      <td>-25.32426</td>\n",
       "      <td>NaN</td>\n",
       "    </tr>\n",
       "  </tbody>\n",
       "</table>\n",
       "</div>"
      ],
      "text/plain": [
       "  studyName  Sample Number                              Species  Region  \\\n",
       "0   PAL0708              1  Adelie Penguin (Pygoscelis adeliae)  Anvers   \n",
       "1   PAL0708              2  Adelie Penguin (Pygoscelis adeliae)  Anvers   \n",
       "2   PAL0708              3  Adelie Penguin (Pygoscelis adeliae)  Anvers   \n",
       "3   PAL0708              4  Adelie Penguin (Pygoscelis adeliae)  Anvers   \n",
       "4   PAL0708              5  Adelie Penguin (Pygoscelis adeliae)  Anvers   \n",
       "\n",
       "      Island               Stage Individual ID Clutch Completion    Date Egg  \\\n",
       "0  Torgersen  Adult, 1 Egg Stage          N1A1               Yes  2007-11-11   \n",
       "1  Torgersen  Adult, 1 Egg Stage          N1A2               Yes  2007-11-11   \n",
       "2  Torgersen  Adult, 1 Egg Stage          N2A1               Yes  2007-11-16   \n",
       "3  Torgersen  Adult, 1 Egg Stage          N2A2               Yes  2007-11-16   \n",
       "4  Torgersen  Adult, 1 Egg Stage          N3A1               Yes  2007-11-16   \n",
       "\n",
       "   Culmen Length (mm)  Culmen Depth (mm)  Flipper Length (mm)  Body Mass (g)  \\\n",
       "0                39.1               18.7                181.0         3750.0   \n",
       "1                39.5               17.4                186.0         3800.0   \n",
       "2                40.3               18.0                195.0         3250.0   \n",
       "3                 NaN                NaN                  NaN            NaN   \n",
       "4                36.7               19.3                193.0         3450.0   \n",
       "\n",
       "      Sex  Delta 15 N (o/oo)  Delta 13 C (o/oo)  \\\n",
       "0    MALE                NaN                NaN   \n",
       "1  FEMALE            8.94956          -24.69454   \n",
       "2  FEMALE            8.36821          -25.33302   \n",
       "3     NaN                NaN                NaN   \n",
       "4  FEMALE            8.76651          -25.32426   \n",
       "\n",
       "                         Comments  \n",
       "0  Not enough blood for isotopes.  \n",
       "1                             NaN  \n",
       "2                             NaN  \n",
       "3              Adult not sampled.  \n",
       "4                             NaN  "
      ]
     },
     "execution_count": 6,
     "metadata": {},
     "output_type": "execute_result"
    }
   ],
   "source": [
    "df = pd.read_csv('https://raw.githubusercontent.com/allisonhorst/palmerpenguins/master/data-raw/penguins_raw.csv')\n",
    "df.head()\n"
   ]
  },
  {
   "cell_type": "code",
   "execution_count": 7,
   "metadata": {},
   "outputs": [
    {
     "data": {
      "text/html": [
       "<div>\n",
       "<style scoped>\n",
       "    .dataframe tbody tr th:only-of-type {\n",
       "        vertical-align: middle;\n",
       "    }\n",
       "\n",
       "    .dataframe tbody tr th {\n",
       "        vertical-align: top;\n",
       "    }\n",
       "\n",
       "    .dataframe thead th {\n",
       "        text-align: right;\n",
       "    }\n",
       "</style>\n",
       "<table border=\"1\" class=\"dataframe\">\n",
       "  <thead>\n",
       "    <tr style=\"text-align: right;\">\n",
       "      <th></th>\n",
       "      <th>Sample Number</th>\n",
       "      <th>Culmen Length (mm)</th>\n",
       "      <th>Culmen Depth (mm)</th>\n",
       "      <th>Flipper Length (mm)</th>\n",
       "      <th>Body Mass (g)</th>\n",
       "      <th>Delta 15 N (o/oo)</th>\n",
       "      <th>Delta 13 C (o/oo)</th>\n",
       "    </tr>\n",
       "  </thead>\n",
       "  <tbody>\n",
       "    <tr>\n",
       "      <th>count</th>\n",
       "      <td>344.000000</td>\n",
       "      <td>342.000000</td>\n",
       "      <td>342.000000</td>\n",
       "      <td>342.000000</td>\n",
       "      <td>342.000000</td>\n",
       "      <td>330.000000</td>\n",
       "      <td>331.000000</td>\n",
       "    </tr>\n",
       "    <tr>\n",
       "      <th>mean</th>\n",
       "      <td>63.151163</td>\n",
       "      <td>43.921930</td>\n",
       "      <td>17.151170</td>\n",
       "      <td>200.915205</td>\n",
       "      <td>4201.754386</td>\n",
       "      <td>8.733382</td>\n",
       "      <td>-25.686292</td>\n",
       "    </tr>\n",
       "    <tr>\n",
       "      <th>std</th>\n",
       "      <td>40.430199</td>\n",
       "      <td>5.459584</td>\n",
       "      <td>1.974793</td>\n",
       "      <td>14.061714</td>\n",
       "      <td>801.954536</td>\n",
       "      <td>0.551770</td>\n",
       "      <td>0.793961</td>\n",
       "    </tr>\n",
       "    <tr>\n",
       "      <th>min</th>\n",
       "      <td>1.000000</td>\n",
       "      <td>32.100000</td>\n",
       "      <td>13.100000</td>\n",
       "      <td>172.000000</td>\n",
       "      <td>2700.000000</td>\n",
       "      <td>7.632200</td>\n",
       "      <td>-27.018540</td>\n",
       "    </tr>\n",
       "    <tr>\n",
       "      <th>25%</th>\n",
       "      <td>29.000000</td>\n",
       "      <td>39.225000</td>\n",
       "      <td>15.600000</td>\n",
       "      <td>190.000000</td>\n",
       "      <td>3550.000000</td>\n",
       "      <td>8.299890</td>\n",
       "      <td>-26.320305</td>\n",
       "    </tr>\n",
       "    <tr>\n",
       "      <th>50%</th>\n",
       "      <td>58.000000</td>\n",
       "      <td>44.450000</td>\n",
       "      <td>17.300000</td>\n",
       "      <td>197.000000</td>\n",
       "      <td>4050.000000</td>\n",
       "      <td>8.652405</td>\n",
       "      <td>-25.833520</td>\n",
       "    </tr>\n",
       "    <tr>\n",
       "      <th>75%</th>\n",
       "      <td>95.250000</td>\n",
       "      <td>48.500000</td>\n",
       "      <td>18.700000</td>\n",
       "      <td>213.000000</td>\n",
       "      <td>4750.000000</td>\n",
       "      <td>9.172123</td>\n",
       "      <td>-25.062050</td>\n",
       "    </tr>\n",
       "    <tr>\n",
       "      <th>max</th>\n",
       "      <td>152.000000</td>\n",
       "      <td>59.600000</td>\n",
       "      <td>21.500000</td>\n",
       "      <td>231.000000</td>\n",
       "      <td>6300.000000</td>\n",
       "      <td>10.025440</td>\n",
       "      <td>-23.787670</td>\n",
       "    </tr>\n",
       "  </tbody>\n",
       "</table>\n",
       "</div>"
      ],
      "text/plain": [
       "       Sample Number  Culmen Length (mm)  Culmen Depth (mm)  \\\n",
       "count     344.000000          342.000000         342.000000   \n",
       "mean       63.151163           43.921930          17.151170   \n",
       "std        40.430199            5.459584           1.974793   \n",
       "min         1.000000           32.100000          13.100000   \n",
       "25%        29.000000           39.225000          15.600000   \n",
       "50%        58.000000           44.450000          17.300000   \n",
       "75%        95.250000           48.500000          18.700000   \n",
       "max       152.000000           59.600000          21.500000   \n",
       "\n",
       "       Flipper Length (mm)  Body Mass (g)  Delta 15 N (o/oo)  \\\n",
       "count           342.000000     342.000000         330.000000   \n",
       "mean            200.915205    4201.754386           8.733382   \n",
       "std              14.061714     801.954536           0.551770   \n",
       "min             172.000000    2700.000000           7.632200   \n",
       "25%             190.000000    3550.000000           8.299890   \n",
       "50%             197.000000    4050.000000           8.652405   \n",
       "75%             213.000000    4750.000000           9.172123   \n",
       "max             231.000000    6300.000000          10.025440   \n",
       "\n",
       "       Delta 13 C (o/oo)  \n",
       "count         331.000000  \n",
       "mean          -25.686292  \n",
       "std             0.793961  \n",
       "min           -27.018540  \n",
       "25%           -26.320305  \n",
       "50%           -25.833520  \n",
       "75%           -25.062050  \n",
       "max           -23.787670  "
      ]
     },
     "execution_count": 7,
     "metadata": {},
     "output_type": "execute_result"
    }
   ],
   "source": [
    "df.describe()"
   ]
  },
  {
   "cell_type": "code",
   "execution_count": 13,
   "metadata": {},
   "outputs": [
    {
     "data": {
      "text/plain": [
       "Species\n",
       "Adelie Penguin (Pygoscelis adeliae)          152\n",
       "Chinstrap penguin (Pygoscelis antarctica)     68\n",
       "Gentoo penguin (Pygoscelis papua)            124\n",
       "dtype: int64"
      ]
     },
     "execution_count": 13,
     "metadata": {},
     "output_type": "execute_result"
    }
   ],
   "source": [
    "df.groupby(['Species']).size()"
   ]
  },
  {
   "cell_type": "code",
   "execution_count": 22,
   "metadata": {},
   "outputs": [],
   "source": [
    "from sklearn.model_selection import train_test_split\n",
    "\n",
    "train_data, test_data = train_test_split(df, test_size=0.2, random_state=42)\n",
    "label = \"Species\""
   ]
  },
  {
   "cell_type": "code",
   "execution_count": 28,
   "metadata": {},
   "outputs": [],
   "source": [
    "import logging\n",
    "\n",
    "automl_settings = {\n",
    "    \"iteration_timeout_minutes\": 2,\n",
    "    \"iterations\": 20,\n",
    "    \"primary_metric\": 'AUC_weighted',\n",
    "    \"preprocess\": True, # Parameter `preprocess` will be deprecated. Use `featurization`\n",
    "    \"verbosity\": logging.INFO,\n",
    "    \"n_cross_validations\": 2\n",
    "}"
   ]
  },
  {
   "cell_type": "code",
   "execution_count": null,
   "metadata": {},
   "outputs": [],
   "source": [
    "# https://docs.microsoft.com/en-us/azure/machine-learning/how-to-configure-auto-features#featurization\n",
    "\n",
    "# https://docs.microsoft.com/en-us/azure/machine-learning/how-to-configure-auto-features#customize-featurization\n"
   ]
  },
  {
   "cell_type": "code",
   "execution_count": 29,
   "metadata": {},
   "outputs": [
    {
     "name": "stderr",
     "output_type": "stream",
     "text": [
      "WARNING - Parameter `preprocess` will be deprecated. Use `featurization`\n",
      "WARNING - Detected both `preprocess` and `featurization`. `preprocess` is being deprecated and will be overridden by `featurization` setting.\n"
     ]
    }
   ],
   "source": [
    "#https://docs.microsoft.com/en-us/python/api/azureml-train-automl-client/azureml.train.automl.automlconfig.automlconfig?view=azure-ml-py\n",
    "from azureml.train.automl import AutoMLConfig\n",
    "\n",
    "automl_config = AutoMLConfig(task='classification',\n",
    "                             debug_log='automated_ml_errors.log',\n",
    "                             training_data=train_data,\n",
    "                             label_column_name=label,\n",
    "                             #blacklist_models=[], # https://docs.microsoft.com/en-us/python/api/azureml-train-automl-client/azureml.train.automl.constants.supportedmodels.classification?view=azure-ml-py\n",
    "                             **automl_settings)\n"
   ]
  },
  {
   "cell_type": "code",
   "execution_count": 33,
   "metadata": {},
   "outputs": [
    {
     "name": "stdout",
     "output_type": "stream",
     "text": [
      "Running on local machine\n",
      "Parent Run ID: AutoML_26369b95-c5c3-4592-977a-3be41efa93a5\n",
      "\n",
      "Current status: DatasetEvaluation. Gathering dataset statistics.\n",
      "Current status: FeaturesGeneration. Generating features for the dataset.\n",
      "Current status: DatasetFeaturization. Beginning to fit featurizers and featurize the dataset.\n",
      "Current status: DatasetFeaturizationCompleted. Completed fit featurizers and featurizing the dataset.\n",
      "Current status: DatasetCrossValidationSplit. Generating individually featurized CV splits.\n",
      "\n",
      "****************************************************************************************************\n",
      "DATA GUARDRAILS: \n",
      "\n",
      "TYPE:         Class balancing detection\n",
      "STATUS:       PASSED\n",
      "DESCRIPTION:  Your inputs were analyzed, and all classes are balanced in your training data.\n",
      "              Learn more about imbalanced data: https://aka.ms/AutomatedMLImbalancedData\n",
      "\n",
      "TYPE:         Missing feature values imputation\n",
      "STATUS:       DONE\n",
      "DESCRIPTION:  If the missing values are expected, let the run complete. Otherwise cancel the current run and use a script to customize the handling of missing feature values that may be more appropriate based on the data type and business requirement.\n",
      "              Learn more about missing value imputation: https://aka.ms/AutomatedMLFeaturization\n",
      "DETAILS:      \n",
      "+---------------------------------+---------------------------------+---------------------------------+\n",
      "|Column name                      |Missing value count              |Imputation type                  |\n",
      "+=================================+=================================+=================================+\n",
      "|Body Mass (g)                    |1                                |mean                             |\n",
      "|Comments                         |231                              |\n",
      "|Culmen Depth (mm)                |1                                |mean                             |\n",
      "|Culmen Length (mm)               |1                                |mean                             |\n",
      "|Delta 13 C (o/oo)                |10                               |mean                             |\n",
      "|Delta 15 N (o/oo)                |10                               |mean                             |\n",
      "|Flipper Length (mm)              |1                                |mean                             |\n",
      "|Sex                              |8                                |\n",
      "+---------------------------------+---------------------------------+---------------------------------+\n",
      "\n",
      "TYPE:         High cardinality feature detection\n",
      "STATUS:       DONE\n",
      "DESCRIPTION:  High cardinality features were detected in your inputs and handled.\n",
      "              Learn more about high cardinality feature handling: https://aka.ms/AutomatedMLFeaturization\n",
      "DETAILS:      High cardinality features refer to columns that contain a large percentage of unique values.\n",
      "+---------------------------------+---------------------------------+\n",
      "|Column name                      |Column Content Type              |\n",
      "+=================================+=================================+\n",
      "|Comments                         |categorical_hash                 |\n",
      "|Individual ID                    |categorical_hash                 |\n",
      "+---------------------------------+---------------------------------+\n",
      "\n",
      "****************************************************************************************************\n",
      "Current status: ModelSelection. Beginning model selection.\n",
      "\n",
      "****************************************************************************************************\n",
      "ITERATION: The iteration being evaluated.\n",
      "PIPELINE: A summary description of the pipeline being evaluated.\n",
      "DURATION: Time taken for the current iteration.\n",
      "METRIC: The result of computing score on the fitted pipeline.\n",
      "BEST: The best observed score thus far.\n",
      "****************************************************************************************************\n",
      "\n",
      " ITERATION   PIPELINE                                       DURATION      METRIC      BEST\n",
      "         0   MaxAbsScaler LightGBM                          0:00:22       0.9999    0.9999\n",
      "         1   MaxAbsScaler XGBoostClassifier                 0:00:27       0.9993    0.9999\n",
      "         2   MaxAbsScaler LightGBM                          0:00:27       0.9997    0.9999\n",
      "         3   StandardScalerWrapper XGBoostClassifier        0:00:21       0.9997    0.9999\n",
      "         4   MaxAbsScaler SGD                               0:00:20       0.9576    0.9999\n",
      "         5   StandardScalerWrapper LightGBM                 0:00:21       0.9996    0.9999\n",
      "         6   SparseNormalizer XGBoostClassifier             0:00:20       0.9955    0.9999\n",
      "         7   MaxAbsScaler RandomForest                      0:00:22       0.9992    0.9999\n",
      "         8   MaxAbsScaler SGD                               0:00:20       0.9927    0.9999\n",
      "         9   MaxAbsScaler ExtremeRandomTrees                0:00:26       0.9945    0.9999\n",
      "        10   MaxAbsScaler SGD                               0:00:23       0.9680    0.9999\n",
      "        11   StandardScalerWrapper XGBoostClassifier        0:00:21       0.9998    0.9999\n",
      "        12   StandardScalerWrapper ExtremeRandomTrees       0:00:20       0.9991    0.9999\n",
      "        13   MaxAbsScaler RandomForest                      0:00:21       0.9956    0.9999\n",
      "        14   MaxAbsScaler LightGBM                          0:00:21       0.9980    0.9999\n",
      "        15   MaxAbsScaler MultinomialNaiveBayes             0:00:26       0.8288    0.9999\n",
      "        16   MaxAbsScaler SGD                               0:00:20       0.9188    0.9999\n",
      "        17   MaxAbsScaler LightGBM                          0:00:22       0.9992    0.9999\n",
      "        18   VotingEnsemble                                 0:00:38       1.0000    1.0000\n",
      "        19   StackEnsemble                                  0:00:34       0.9999    1.0000\n",
      "****************************************************************************************************\n",
      "Current status: BestRunExplainModel. Best run model explanations started\n",
      "Current status: ModelExplanationDataSetSetup. Model explanations data setup completed\n",
      "Current status: PickSurrogateModel. Choosing LightGBM as the surrogate model for explanations\n",
      "Current status: EngineeredFeatureExplanations. Computation of engineered features started\n",
      "Current status: EngineeredFeatureExplanations. Computation of engineered features completed\n",
      "Current status: BestRunExplainModel. Best run model explanations completed\n",
      "****************************************************************************************************\n"
     ]
    }
   ],
   "source": [
    "local_run = experiment.submit(automl_config, show_output=True)"
   ]
  },
  {
   "cell_type": "code",
   "execution_count": 35,
   "metadata": {},
   "outputs": [
    {
     "data": {
      "application/vnd.jupyter.widget-view+json": {
       "model_id": "fb5a07a4bfad46f7923ea81f74b96ab6",
       "version_major": 2,
       "version_minor": 0
      },
      "text/plain": [
       "_AutoMLWidget(widget_settings={'childWidgetDisplay': 'popup', 'send_telemetry': False, 'log_level': 'INFO', 's…"
      ]
     },
     "metadata": {},
     "output_type": "display_data"
    },
    {
     "data": {
      "application/aml.mini.widget.v1": "{\"status\": \"Completed\", \"workbench_run_details_uri\": \"https://ml.azure.com/experiments/penguins-automatedML/runs/AutoML_26369b95-c5c3-4592-977a-3be41efa93a5?wsid=/subscriptions/f80606e5-788f-4dc3-a9ea-2eb9a7836082/resourcegroups/rg-sandbox/workspaces/sandboxaml\", \"run_id\": \"AutoML_26369b95-c5c3-4592-977a-3be41efa93a5\", \"run_properties\": {\"run_id\": \"AutoML_26369b95-c5c3-4592-977a-3be41efa93a5\", \"created_utc\": \"2020-06-15T10:04:15.720321Z\", \"properties\": {\"num_iterations\": \"20\", \"training_type\": \"TrainFull\", \"acquisition_function\": \"EI\", \"primary_metric\": \"AUC_weighted\", \"train_split\": \"0\", \"acquisition_parameter\": \"0\", \"num_cross_validation\": \"2\", \"target\": \"local\", \"RawAMLSettingsString\": \"{'name': 'penguins-automatedML', 'path': '.', 'subscription_id': 'f80606e5-788f-4dc3-a9ea-2eb9a7836082', 'resource_group': 'rg-sandbox', 'workspace_name': 'sandboxaml', 'region': 'westeurope', 'compute_target': 'local', 'spark_service': None, 'azure_service': 'Microsoft.AzureNotebookVM', '_local_managed_run_id': None, 'iterations': 20, 'primary_metric': 'AUC_weighted', 'task_type': 'classification', 'data_script': None, 'validation_size': 0.0, 'n_cross_validations': 2, 'y_min': None, 'y_max': None, 'num_classes': 3, 'featurization': 'auto', '_ignore_package_version_incompatibilities': False, 'lag_length': 0, 'is_timeseries': False, 'max_cores_per_iteration': 1, 'max_concurrent_iterations': 1, 'iteration_timeout_minutes': 2, 'mem_in_mb': None, 'enforce_time_on_windows': False, 'experiment_timeout_minutes': 8640, 'experiment_exit_score': None, 'whitelist_models': None, 'blacklist_algos': None, 'supported_models': ['DecisionTree', 'GradientBoosting', 'MultinomialNaiveBayes', 'TensorFlowDNN', 'LogisticRegression', 'ExtremeRandomTrees', 'XGBoostClassifier', 'BernoulliNaiveBayes', 'SVM', 'KNN', 'LinearSVM', 'RandomForest', 'TensorFlowLinearClassifier', 'LightGBM', 'SGD', 'AveragedPerceptronClassifier'], 'auto_blacklist': True, 'blacklist_samples_reached': False, 'exclude_nan_labels': True, 'verbosity': 20, 'debug_log': 'automated_ml_errors.log', 'show_warnings': False, 'model_explainability': True, 'service_url': None, 'sdk_url': None, 'sdk_packages': None, 'enable_onnx_compatible_models': False, 'enable_split_onnx_featurizer_estimator_models': False, 'vm_type': None, 'telemetry_verbosity': 20, 'send_telemetry': True, 'enable_dnn': False, 'force_text_dnn': False, 'enable_feature_sweeping': True, 'enable_early_stopping': False, 'early_stopping_n_iters': 10, 'metrics': None, 'enable_ensembling': True, 'enable_stack_ensembling': True, 'ensemble_iterations': 15, 'enable_tf': False, 'enable_cache': True, 'enable_subsampling': False, 'subsample_seed': None, 'enable_nimbusml': False, 'enable_streaming': False, 'force_streaming': False, 'track_child_runs': True, 'label_column_name': 'Species', 'weight_column_name': None, 'cv_split_column_names': None, 'cost_mode': 1, 'metric_operation': 'maximize', 'preprocess': True, 'scenario': 'SDK-Compatible'}\", \"AMLSettingsJsonString\": \"{\\\"name\\\": \\\"penguins-automatedML\\\", \\\"path\\\": \\\".\\\", \\\"subscription_id\\\": \\\"f80606e5-788f-4dc3-a9ea-2eb9a7836082\\\", \\\"resource_group\\\": \\\"rg-sandbox\\\", \\\"workspace_name\\\": \\\"sandboxaml\\\", \\\"region\\\": \\\"westeurope\\\", \\\"compute_target\\\": \\\"local\\\", \\\"spark_service\\\": null, \\\"azure_service\\\": \\\"Microsoft.AzureNotebookVM\\\", \\\"_local_managed_run_id\\\": null, \\\"iterations\\\": 20, \\\"primary_metric\\\": \\\"AUC_weighted\\\", \\\"task_type\\\": \\\"classification\\\", \\\"data_script\\\": null, \\\"validation_size\\\": 0.0, \\\"n_cross_validations\\\": 2, \\\"y_min\\\": null, \\\"y_max\\\": null, \\\"num_classes\\\": 3, \\\"featurization\\\": \\\"auto\\\", \\\"_ignore_package_version_incompatibilities\\\": false, \\\"lag_length\\\": 0, \\\"is_timeseries\\\": false, \\\"max_cores_per_iteration\\\": 1, \\\"max_concurrent_iterations\\\": 1, \\\"iteration_timeout_minutes\\\": 2, \\\"mem_in_mb\\\": null, \\\"enforce_time_on_windows\\\": false, \\\"experiment_timeout_minutes\\\": 8640, \\\"experiment_exit_score\\\": null, \\\"whitelist_models\\\": null, \\\"blacklist_algos\\\": null, \\\"supported_models\\\": [\\\"DecisionTree\\\", \\\"GradientBoosting\\\", \\\"MultinomialNaiveBayes\\\", \\\"TensorFlowDNN\\\", \\\"LogisticRegression\\\", \\\"ExtremeRandomTrees\\\", \\\"XGBoostClassifier\\\", \\\"BernoulliNaiveBayes\\\", \\\"SVM\\\", \\\"KNN\\\", \\\"LinearSVM\\\", \\\"RandomForest\\\", \\\"TensorFlowLinearClassifier\\\", \\\"LightGBM\\\", \\\"SGD\\\", \\\"AveragedPerceptronClassifier\\\"], \\\"auto_blacklist\\\": true, \\\"blacklist_samples_reached\\\": false, \\\"exclude_nan_labels\\\": true, \\\"verbosity\\\": 20, \\\"debug_log\\\": \\\"automated_ml_errors.log\\\", \\\"show_warnings\\\": false, \\\"model_explainability\\\": true, \\\"service_url\\\": null, \\\"sdk_url\\\": null, \\\"sdk_packages\\\": null, \\\"enable_onnx_compatible_models\\\": false, \\\"enable_split_onnx_featurizer_estimator_models\\\": false, \\\"vm_type\\\": null, \\\"telemetry_verbosity\\\": 20, \\\"send_telemetry\\\": true, \\\"enable_dnn\\\": false, \\\"force_text_dnn\\\": false, \\\"enable_feature_sweeping\\\": true, \\\"enable_early_stopping\\\": false, \\\"early_stopping_n_iters\\\": 10, \\\"metrics\\\": null, \\\"enable_ensembling\\\": true, \\\"enable_stack_ensembling\\\": true, \\\"ensemble_iterations\\\": 15, \\\"enable_tf\\\": false, \\\"enable_cache\\\": true, \\\"enable_subsampling\\\": false, \\\"subsample_seed\\\": null, \\\"enable_nimbusml\\\": false, \\\"enable_streaming\\\": false, \\\"force_streaming\\\": false, \\\"track_child_runs\\\": true, \\\"label_column_name\\\": \\\"Species\\\", \\\"weight_column_name\\\": null, \\\"cv_split_column_names\\\": null, \\\"cost_mode\\\": 1, \\\"metric_operation\\\": \\\"maximize\\\", \\\"preprocess\\\": true, \\\"scenario\\\": \\\"SDK-Compatible\\\"}\", \"DataPrepJsonString\": null, \"EnableSubsampling\": \"False\", \"runTemplate\": \"AutoML\", \"azureml.runsource\": \"automl\", \"display_task_type\": \"classification\", \"dependencies_versions\": \"{\\\"azureml-widgets\\\": \\\"1.6.0\\\", \\\"azureml-train\\\": \\\"1.6.0\\\", \\\"azureml-train-restclients-hyperdrive\\\": \\\"1.6.0\\\", \\\"azureml-train-core\\\": \\\"1.6.0.post1\\\", \\\"azureml-train-automl\\\": \\\"1.6.0\\\", \\\"azureml-train-automl-runtime\\\": \\\"1.6.0\\\", \\\"azureml-train-automl-client\\\": \\\"1.6.0\\\", \\\"azureml-tensorboard\\\": \\\"1.6.0\\\", \\\"azureml-telemetry\\\": \\\"1.6.0\\\", \\\"azureml-sdk\\\": \\\"1.6.0\\\", \\\"azureml-samples\\\": \\\"0+unknown\\\", \\\"azureml-pipeline\\\": \\\"1.6.0\\\", \\\"azureml-pipeline-steps\\\": \\\"1.6.0\\\", \\\"azureml-pipeline-core\\\": \\\"1.6.0\\\", \\\"azureml-opendatasets\\\": \\\"1.6.0\\\", \\\"azureml-monitoring\\\": \\\"0.1.0a18\\\", \\\"azureml-model-management-sdk\\\": \\\"1.0.1b6.post1\\\", \\\"azureml-mlflow\\\": \\\"1.6.0\\\", \\\"azureml-interpret\\\": \\\"1.6.0\\\", \\\"azureml-explain-model\\\": \\\"1.6.0\\\", \\\"azureml-defaults\\\": \\\"1.6.0\\\", \\\"azureml-dataprep\\\": \\\"1.6.3\\\", \\\"azureml-dataprep-native\\\": \\\"14.1.0\\\", \\\"azureml-datadrift\\\": \\\"1.6.0\\\", \\\"azureml-core\\\": \\\"1.6.0\\\", \\\"azureml-contrib-services\\\": \\\"1.6.0\\\", \\\"azureml-contrib-server\\\": \\\"1.6.0\\\", \\\"azureml-contrib-reinforcementlearning\\\": \\\"1.6.0\\\", \\\"azureml-contrib-pipeline-steps\\\": \\\"1.6.0\\\", \\\"azureml-contrib-notebook\\\": \\\"1.6.0\\\", \\\"azureml-contrib-interpret\\\": \\\"1.6.0\\\", \\\"azureml-contrib-gbdt\\\": \\\"1.6.0\\\", \\\"azureml-contrib-dataset\\\": \\\"1.6.0\\\", \\\"azureml-cli-common\\\": \\\"1.6.0\\\", \\\"azureml-automl-runtime\\\": \\\"1.6.0.post1\\\", \\\"azureml-automl-core\\\": \\\"1.6.0\\\", \\\"azureml-accel-models\\\": \\\"1.6.0\\\"}\", \"ClientSdkVersion\": \"1.6.0\", \"ClientType\": \"SDK\", \"environment_cpu_name\": \"AzureML-AutoML\", \"environment_cpu_version\": \"17\", \"environment_gpu_name\": \"AzureML-AutoML-GPU\", \"environment_gpu_version\": \"10\", \"root_attribution\": \"AutoML\", \"attribution\": \"AutoML\", \"CancelUri\": \"https://westeurope.experiments.azureml.net/jasmine/v1.0/subscriptions/f80606e5-788f-4dc3-a9ea-2eb9a7836082/resourceGroups/rg-sandbox/providers/Microsoft.MachineLearningServices/workspaces/sandboxaml/experiment/penguins-automatedML/cancel/AutoML_26369b95-c5c3-4592-977a-3be41efa93a5\", \"Orchestrator\": \"AutoML\", \"ProblemInfoJsonString\": \"{\\\"dataset_num_categorical\\\": 0, \\\"is_sparse\\\": true, \\\"subsampling\\\": false, \\\"dataset_classes\\\": 3, \\\"dataset_features\\\": 162, \\\"dataset_samples\\\": 275, \\\"single_frequency_class_detected\\\": false}\", \"feature_skus\": \"automatedml_sdk_guardrails\"}, \"tags\": {\"model_explain_run\": \"best_run\", \"azureml.automlComponent\": \"AutoML\", \"model_explain_best_run_child_id\": \"AutoML_26369b95-c5c3-4592-977a-3be41efa93a5_18\", \"best_score\": \"1.0\", \"best_pipeline\": \"VotingEnsemble\", \"automl_best_child_run_id\": \"AutoML_26369b95-c5c3-4592-977a-3be41efa93a5_18\"}, \"end_time_utc\": \"2020-06-15T10:14:06.006348Z\", \"status\": \"Completed\", \"log_files\": {}, \"log_groups\": [], \"run_duration\": \"0:09:50\"}, \"child_runs\": [{\"run_id\": \"AutoML_26369b95-c5c3-4592-977a-3be41efa93a5_0\", \"run_number\": 2, \"metric\": null, \"status\": \"Completed\", \"run_type\": null, \"training_percent\": \"100\", \"start_time\": \"2020-06-15T10:04:32.032673Z\", \"end_time\": \"2020-06-15T10:04:54.955142Z\", \"created_time\": \"2020-06-15T10:04:31.846344Z\", \"created_time_dt\": \"2020-06-15T10:04:31.846344Z\", \"duration\": \"0:00:23\", \"iteration\": \"0\", \"goal\": \"AUC_weighted_max\", \"run_name\": \"MaxAbsScaler, LightGBM\", \"run_properties\": \"copy=True\", \"primary_metric\": 0.99991749, \"best_metric\": 0.99991749}, {\"run_id\": \"AutoML_26369b95-c5c3-4592-977a-3be41efa93a5_1\", \"run_number\": 3, \"metric\": null, \"status\": \"Completed\", \"run_type\": null, \"training_percent\": \"100\", \"start_time\": \"2020-06-15T10:04:56.175481Z\", \"end_time\": \"2020-06-15T10:05:23.682509Z\", \"created_time\": \"2020-06-15T10:04:55.978547Z\", \"created_time_dt\": \"2020-06-15T10:04:55.978547Z\", \"duration\": \"0:00:27\", \"iteration\": \"1\", \"goal\": \"AUC_weighted_max\", \"run_name\": \"MaxAbsScaler, XGBoostClassifier\", \"run_properties\": \"copy=True\", \"primary_metric\": 0.99928062, \"best_metric\": 0.99991749}, {\"run_id\": \"AutoML_26369b95-c5c3-4592-977a-3be41efa93a5_2\", \"run_number\": 4, \"metric\": null, \"status\": \"Completed\", \"run_type\": null, \"training_percent\": \"100\", \"start_time\": \"2020-06-15T10:05:25.838876Z\", \"end_time\": \"2020-06-15T10:05:52.845302Z\", \"created_time\": \"2020-06-15T10:05:25.587283Z\", \"created_time_dt\": \"2020-06-15T10:05:25.587283Z\", \"duration\": \"0:00:27\", \"iteration\": \"2\", \"goal\": \"AUC_weighted_max\", \"run_name\": \"MaxAbsScaler, LightGBM\", \"run_properties\": \"copy=True\", \"primary_metric\": 0.99965475, \"best_metric\": 0.99991749}, {\"run_id\": \"AutoML_26369b95-c5c3-4592-977a-3be41efa93a5_3\", \"run_number\": 5, \"metric\": null, \"status\": \"Completed\", \"run_type\": null, \"training_percent\": \"100\", \"start_time\": \"2020-06-15T10:05:54.894223Z\", \"end_time\": \"2020-06-15T10:06:16.406136Z\", \"created_time\": \"2020-06-15T10:05:54.778647Z\", \"created_time_dt\": \"2020-06-15T10:05:54.778647Z\", \"duration\": \"0:00:21\", \"iteration\": \"3\", \"goal\": \"AUC_weighted_max\", \"run_name\": \"StandardScalerWrapper, XGBoostClassifier\", \"run_properties\": \"<azureml.automl.runtime.shared.model_wrappers.StandardScalerWrapper object at 0x7f7cac46db00\", \"primary_metric\": 0.99965475, \"best_metric\": 0.99991749}, {\"run_id\": \"AutoML_26369b95-c5c3-4592-977a-3be41efa93a5_4\", \"run_number\": 6, \"metric\": null, \"status\": \"Completed\", \"run_type\": null, \"training_percent\": \"100\", \"start_time\": \"2020-06-15T10:06:18.564293Z\", \"end_time\": \"2020-06-15T10:06:39.374501Z\", \"created_time\": \"2020-06-15T10:06:18.431884Z\", \"created_time_dt\": \"2020-06-15T10:06:18.431884Z\", \"duration\": \"0:00:20\", \"iteration\": \"4\", \"goal\": \"AUC_weighted_max\", \"run_name\": \"MaxAbsScaler, SGD\", \"run_properties\": \"copy=True\", \"primary_metric\": 0.95755356, \"best_metric\": 0.99991749}, {\"run_id\": \"AutoML_26369b95-c5c3-4592-977a-3be41efa93a5_5\", \"run_number\": 7, \"metric\": null, \"status\": \"Completed\", \"run_type\": null, \"training_percent\": \"100\", \"start_time\": \"2020-06-15T10:07:16.738956Z\", \"end_time\": \"2020-06-15T10:07:38.049975Z\", \"created_time\": \"2020-06-15T10:07:16.57885Z\", \"created_time_dt\": \"2020-06-15T10:07:16.57885Z\", \"duration\": \"0:00:21\", \"iteration\": \"5\", \"goal\": \"AUC_weighted_max\", \"run_name\": \"StandardScalerWrapper, LightGBM\", \"run_properties\": \"<azureml.automl.runtime.shared.model_wrappers.StandardScalerWrapper object at 0x7f7cac49ceb8\", \"primary_metric\": 0.99955703, \"best_metric\": 0.99991749}, {\"run_id\": \"AutoML_26369b95-c5c3-4592-977a-3be41efa93a5_6\", \"run_number\": 8, \"metric\": null, \"status\": \"Completed\", \"run_type\": null, \"training_percent\": \"100\", \"start_time\": \"2020-06-15T10:07:40.526922Z\", \"end_time\": \"2020-06-15T10:08:00.937324Z\", \"created_time\": \"2020-06-15T10:07:40.252388Z\", \"created_time_dt\": \"2020-06-15T10:07:40.252388Z\", \"duration\": \"0:00:20\", \"iteration\": \"6\", \"goal\": \"AUC_weighted_max\", \"run_name\": \"SparseNormalizer, XGBoostClassifier\", \"run_properties\": \"<azureml.automl.runtime.shared.model_wrappers.SparseNormalizer object at 0x7f7cac438668\", \"primary_metric\": 0.99547235, \"best_metric\": 0.99991749}, {\"run_id\": \"AutoML_26369b95-c5c3-4592-977a-3be41efa93a5_7\", \"run_number\": 9, \"metric\": null, \"status\": \"Completed\", \"run_type\": null, \"training_percent\": \"100\", \"start_time\": \"2020-06-15T10:08:02.855092Z\", \"end_time\": \"2020-06-15T10:08:25.227244Z\", \"created_time\": \"2020-06-15T10:08:02.744614Z\", \"created_time_dt\": \"2020-06-15T10:08:02.744614Z\", \"duration\": \"0:00:22\", \"iteration\": \"7\", \"goal\": \"AUC_weighted_max\", \"run_name\": \"MaxAbsScaler, RandomForest\", \"run_properties\": \"copy=True\", \"primary_metric\": 0.99915362, \"best_metric\": 0.99991749}, {\"run_id\": \"AutoML_26369b95-c5c3-4592-977a-3be41efa93a5_8\", \"run_number\": 10, \"metric\": null, \"status\": \"Completed\", \"run_type\": null, \"training_percent\": \"100\", \"start_time\": \"2020-06-15T10:08:28.418655Z\", \"end_time\": \"2020-06-15T10:08:49.254341Z\", \"created_time\": \"2020-06-15T10:08:28.294366Z\", \"created_time_dt\": \"2020-06-15T10:08:28.294366Z\", \"duration\": \"0:00:20\", \"iteration\": \"8\", \"goal\": \"AUC_weighted_max\", \"run_name\": \"MaxAbsScaler, SGD\", \"run_properties\": \"copy=True\", \"primary_metric\": 0.9926699, \"best_metric\": 0.99991749}, {\"run_id\": \"AutoML_26369b95-c5c3-4592-977a-3be41efa93a5_9\", \"run_number\": 11, \"metric\": null, \"status\": \"Completed\", \"run_type\": null, \"training_percent\": \"100\", \"start_time\": \"2020-06-15T10:08:52.05822Z\", \"end_time\": \"2020-06-15T10:09:18.771962Z\", \"created_time\": \"2020-06-15T10:08:51.955009Z\", \"created_time_dt\": \"2020-06-15T10:08:51.955009Z\", \"duration\": \"0:00:26\", \"iteration\": \"9\", \"goal\": \"AUC_weighted_max\", \"run_name\": \"MaxAbsScaler, ExtremeRandomTrees\", \"run_properties\": \"copy=True\", \"primary_metric\": 0.99450067, \"best_metric\": 0.99991749}, {\"run_id\": \"AutoML_26369b95-c5c3-4592-977a-3be41efa93a5_10\", \"run_number\": 12, \"metric\": null, \"status\": \"Completed\", \"run_type\": null, \"training_percent\": \"100\", \"start_time\": \"2020-06-15T10:09:22.768683Z\", \"end_time\": \"2020-06-15T10:09:46.058929Z\", \"created_time\": \"2020-06-15T10:09:22.643405Z\", \"created_time_dt\": \"2020-06-15T10:09:22.643405Z\", \"duration\": \"0:00:23\", \"iteration\": \"10\", \"goal\": \"AUC_weighted_max\", \"run_name\": \"MaxAbsScaler, SGD\", \"run_properties\": \"copy=True\", \"primary_metric\": 0.968021, \"best_metric\": 0.99991749}, {\"run_id\": \"AutoML_26369b95-c5c3-4592-977a-3be41efa93a5_11\", \"run_number\": 13, \"metric\": null, \"status\": \"Completed\", \"run_type\": null, \"training_percent\": \"100\", \"start_time\": \"2020-06-15T10:09:48.137164Z\", \"end_time\": \"2020-06-15T10:10:09.397324Z\", \"created_time\": \"2020-06-15T10:09:47.941013Z\", \"created_time_dt\": \"2020-06-15T10:09:47.941013Z\", \"duration\": \"0:00:21\", \"iteration\": \"11\", \"goal\": \"AUC_weighted_max\", \"run_name\": \"StandardScalerWrapper, XGBoostClassifier\", \"run_properties\": \"<azureml.automl.runtime.shared.model_wrappers.StandardScalerWrapper object at 0x7f7cac2af400\", \"primary_metric\": 0.99977841, \"best_metric\": 0.99991749}, {\"run_id\": \"AutoML_26369b95-c5c3-4592-977a-3be41efa93a5_12\", \"run_number\": 14, \"metric\": null, \"status\": \"Completed\", \"run_type\": null, \"training_percent\": \"100\", \"start_time\": \"2020-06-15T10:10:11.463858Z\", \"end_time\": \"2020-06-15T10:10:32.366969Z\", \"created_time\": \"2020-06-15T10:10:11.281171Z\", \"created_time_dt\": \"2020-06-15T10:10:11.281171Z\", \"duration\": \"0:00:21\", \"iteration\": \"12\", \"goal\": \"AUC_weighted_max\", \"run_name\": \"StandardScalerWrapper, ExtremeRandomTrees\", \"run_properties\": \"<azureml.automl.runtime.shared.model_wrappers.StandardScalerWrapper object at 0x7f7cac239630\", \"primary_metric\": 0.99912829, \"best_metric\": 0.99991749}, {\"run_id\": \"AutoML_26369b95-c5c3-4592-977a-3be41efa93a5_13\", \"run_number\": 15, \"metric\": null, \"status\": \"Completed\", \"run_type\": null, \"training_percent\": \"100\", \"start_time\": \"2020-06-15T10:10:34.910653Z\", \"end_time\": \"2020-06-15T10:10:56.710916Z\", \"created_time\": \"2020-06-15T10:10:34.462874Z\", \"created_time_dt\": \"2020-06-15T10:10:34.462874Z\", \"duration\": \"0:00:22\", \"iteration\": \"13\", \"goal\": \"AUC_weighted_max\", \"run_name\": \"MaxAbsScaler, RandomForest\", \"run_properties\": \"copy=True\", \"primary_metric\": 0.99562691, \"best_metric\": 0.99991749}, {\"run_id\": \"AutoML_26369b95-c5c3-4592-977a-3be41efa93a5_14\", \"run_number\": 16, \"metric\": null, \"status\": \"Completed\", \"run_type\": null, \"training_percent\": \"100\", \"start_time\": \"2020-06-15T10:10:58.749159Z\", \"end_time\": \"2020-06-15T10:11:20.45924Z\", \"created_time\": \"2020-06-15T10:10:58.542309Z\", \"created_time_dt\": \"2020-06-15T10:10:58.542309Z\", \"duration\": \"0:00:21\", \"iteration\": \"14\", \"goal\": \"AUC_weighted_max\", \"run_name\": \"MaxAbsScaler, LightGBM\", \"run_properties\": \"copy=True\", \"primary_metric\": 0.99796623, \"best_metric\": 0.99991749}, {\"run_id\": \"AutoML_26369b95-c5c3-4592-977a-3be41efa93a5_15\", \"run_number\": 17, \"metric\": null, \"status\": \"Completed\", \"run_type\": null, \"training_percent\": \"100\", \"start_time\": \"2020-06-15T10:11:22.519559Z\", \"end_time\": \"2020-06-15T10:11:48.951029Z\", \"created_time\": \"2020-06-15T10:11:22.34774Z\", \"created_time_dt\": \"2020-06-15T10:11:22.34774Z\", \"duration\": \"0:00:26\", \"iteration\": \"15\", \"goal\": \"AUC_weighted_max\", \"run_name\": \"MaxAbsScaler, MultinomialNaiveBayes\", \"run_properties\": \"copy=True\", \"primary_metric\": 0.8288148, \"best_metric\": 0.99991749}, {\"run_id\": \"AutoML_26369b95-c5c3-4592-977a-3be41efa93a5_16\", \"run_number\": 18, \"metric\": null, \"status\": \"Completed\", \"run_type\": null, \"training_percent\": \"100\", \"start_time\": \"2020-06-15T10:11:53.585184Z\", \"end_time\": \"2020-06-15T10:12:13.772911Z\", \"created_time\": \"2020-06-15T10:11:53.338314Z\", \"created_time_dt\": \"2020-06-15T10:11:53.338314Z\", \"duration\": \"0:00:20\", \"iteration\": \"16\", \"goal\": \"AUC_weighted_max\", \"run_name\": \"MaxAbsScaler, SGD\", \"run_properties\": \"copy=True\", \"primary_metric\": 0.91878539, \"best_metric\": 0.99991749}, {\"run_id\": \"AutoML_26369b95-c5c3-4592-977a-3be41efa93a5_17\", \"run_number\": 19, \"metric\": null, \"status\": \"Completed\", \"run_type\": null, \"training_percent\": \"100\", \"start_time\": \"2020-06-15T10:12:16.634328Z\", \"end_time\": \"2020-06-15T10:12:39.550877Z\", \"created_time\": \"2020-06-15T10:12:16.248365Z\", \"created_time_dt\": \"2020-06-15T10:12:16.248365Z\", \"duration\": \"0:00:23\", \"iteration\": \"17\", \"goal\": \"AUC_weighted_max\", \"run_name\": \"MaxAbsScaler, LightGBM\", \"run_properties\": \"copy=True\", \"primary_metric\": 0.99920886, \"best_metric\": 0.99991749}, {\"run_id\": \"AutoML_26369b95-c5c3-4592-977a-3be41efa93a5_18\", \"run_number\": 20, \"metric\": null, \"status\": \"Completed\", \"run_type\": null, \"training_percent\": \"100\", \"start_time\": \"2020-06-15T10:12:41.233405Z\", \"end_time\": \"2020-06-15T10:13:19.483004Z\", \"created_time\": \"2020-06-15T10:12:40.991361Z\", \"created_time_dt\": \"2020-06-15T10:12:40.991361Z\", \"duration\": \"0:00:38\", \"iteration\": \"18\", \"goal\": \"AUC_weighted_max\", \"run_name\": \"VotingEnsemble\", \"run_properties\": \"classification_labels=None,\\n               estimators=[('0', Pipeline(memory=None,\\n     steps=[('maxabsscaler', MaxAbsScaler(copy=True\", \"primary_metric\": 1.0, \"best_metric\": 1.0}, {\"run_id\": \"AutoML_26369b95-c5c3-4592-977a-3be41efa93a5_19\", \"run_number\": 21, \"metric\": null, \"status\": \"Completed\", \"run_type\": null, \"training_percent\": \"100\", \"start_time\": \"2020-06-15T10:13:20.407649Z\", \"end_time\": \"2020-06-15T10:13:55.263285Z\", \"created_time\": \"2020-06-15T10:13:20.277951Z\", \"created_time_dt\": \"2020-06-15T10:13:20.277951Z\", \"duration\": \"0:00:34\", \"iteration\": \"19\", \"goal\": \"AUC_weighted_max\", \"run_name\": \"StackEnsemble\", \"run_properties\": \"base_learners=[('0', Pipeline(memory=None,\\n     steps=[('maxabsscaler', MaxAbsScaler(copy=True\", \"primary_metric\": 0.99990989, \"best_metric\": 1.0}], \"children_metrics\": {\"categories\": [0], \"series\": {\"log_loss\": [{\"categories\": [\"0\", \"1\", \"2\", \"3\", \"4\", \"5\", \"6\", \"7\", \"8\", \"9\", \"10\", \"11\", \"12\", \"13\", \"14\", \"15\", \"16\", \"17\", \"18\", \"19\"], \"mode\": \"markers\", \"name\": \"log_loss\", \"stepped\": false, \"type\": \"scatter\", \"data\": [0.021922825342064522, 0.06074239498453411, 0.09380485042863793, 0.21993974461022053, 0.5029569904847667, 0.11663447623748247, 0.4618270811770607, 0.3823160849279058, 0.2456538585772392, 0.8988568117250801, 0.41476364969995394, 0.1490771165393598, 0.6751004870224753, 0.3932730909809772, 0.4176901190165185, 0.6277354492737185, 0.9506731629017464, 0.09966688051752129, 0.13120543891033698, 1.0602393267282306]}, {\"categories\": [\"0\", \"1\", \"2\", \"3\", \"4\", \"5\", \"6\", \"7\", \"8\", \"9\", \"10\", \"11\", \"12\", \"13\", \"14\", \"15\", \"16\", \"17\", \"18\", \"19\"], \"mode\": \"lines\", \"name\": \"log_loss_min\", \"stepped\": true, \"type\": \"scatter\", \"data\": [0.021922825342064522, 0.021922825342064522, 0.021922825342064522, 0.021922825342064522, 0.021922825342064522, 0.021922825342064522, 0.021922825342064522, 0.021922825342064522, 0.021922825342064522, 0.021922825342064522, 0.021922825342064522, 0.021922825342064522, 0.021922825342064522, 0.021922825342064522, 0.021922825342064522, 0.021922825342064522, 0.021922825342064522, 0.021922825342064522, 0.021922825342064522, 0.021922825342064522]}], \"precision_score_weighted\": [{\"categories\": [\"0\", \"1\", \"2\", \"3\", \"4\", \"5\", \"6\", \"7\", \"8\", \"9\", \"10\", \"11\", \"12\", \"13\", \"14\", \"15\", \"16\", \"17\", \"18\", \"19\"], \"mode\": \"markers\", \"name\": \"precision_score_weighted\", \"stepped\": false, \"type\": \"scatter\", \"data\": [0.9929080822879057, 0.986158950634172, 0.9896209153874849, 0.9828143406182595, 0.86500505980433, 0.9929080822879057, 0.9550766601086627, 0.9894461175345928, 0.9399611862422048, 0.9378043057827254, 0.8794089856882714, 0.9896209153874849, 0.9528510069651474, 0.9343838353048532, 0.9684902410713981, 0.6617289228913514, 0.8242664267793307, 0.9896209153874849, 0.9896209153874849, 0.40084080817223317]}, {\"categories\": [\"0\", \"1\", \"2\", \"3\", \"4\", \"5\", \"6\", \"7\", \"8\", \"9\", \"10\", \"11\", \"12\", \"13\", \"14\", \"15\", \"16\", \"17\", \"18\", \"19\"], \"mode\": \"lines\", \"name\": \"precision_score_weighted_max\", \"stepped\": true, \"type\": \"scatter\", \"data\": [0.9929080822879057, 0.9929080822879057, 0.9929080822879057, 0.9929080822879057, 0.9929080822879057, 0.9929080822879057, 0.9929080822879057, 0.9929080822879057, 0.9929080822879057, 0.9929080822879057, 0.9929080822879057, 0.9929080822879057, 0.9929080822879057, 0.9929080822879057, 0.9929080822879057, 0.9929080822879057, 0.9929080822879057, 0.9929080822879057, 0.9929080822879057, 0.9929080822879057]}], \"weighted_accuracy\": [{\"categories\": [\"0\", \"1\", \"2\", \"3\", \"4\", \"5\", \"6\", \"7\", \"8\", \"9\", \"10\", \"11\", \"12\", \"13\", \"14\", \"15\", \"16\", \"17\", \"18\", \"19\"], \"mode\": \"markers\", \"name\": \"weighted_accuracy\", \"stepped\": false, \"type\": \"scatter\", \"data\": [0.9913239915227783, 0.9848953369675517, 0.986707719162709, 0.9830829547723945, 0.7986606317790729, 0.9913239915227783, 0.9652820568682654, 0.9872642554056259, 0.9334792986003515, 0.9112400199757356, 0.8195158486077516, 0.986707719162709, 0.9374343495139636, 0.9513724575300182, 0.9687398687521548, 0.6801183283732835, 0.804681400988797, 0.986707719162709, 0.986707719162709, 0.6624288924970598]}, {\"categories\": [\"0\", \"1\", \"2\", \"3\", \"4\", \"5\", \"6\", \"7\", \"8\", \"9\", \"10\", \"11\", \"12\", \"13\", \"14\", \"15\", \"16\", \"17\", \"18\", \"19\"], \"mode\": \"lines\", \"name\": \"weighted_accuracy_max\", \"stepped\": true, \"type\": \"scatter\", \"data\": [0.9913239915227783, 0.9913239915227783, 0.9913239915227783, 0.9913239915227783, 0.9913239915227783, 0.9913239915227783, 0.9913239915227783, 0.9913239915227783, 0.9913239915227783, 0.9913239915227783, 0.9913239915227783, 0.9913239915227783, 0.9913239915227783, 0.9913239915227783, 0.9913239915227783, 0.9913239915227783, 0.9913239915227783, 0.9913239915227783, 0.9913239915227783, 0.9913239915227783]}], \"recall_score_weighted\": [{\"categories\": [\"0\", \"1\", \"2\", \"3\", \"4\", \"5\", \"6\", \"7\", \"8\", \"9\", \"10\", \"11\", \"12\", \"13\", \"14\", \"15\", \"16\", \"17\", \"18\", \"19\"], \"mode\": \"markers\", \"name\": \"recall_score_weighted\", \"stepped\": false, \"type\": \"scatter\", \"data\": [0.9927271765577066, 0.9854543531154132, 0.9891039881519095, 0.9818047180789168, 0.8291812123135512, 0.9927271765577066, 0.9526869776790436, 0.9890775415212102, 0.938167777425156, 0.9274833386226595, 0.8474029408653339, 0.9891039881519095, 0.9453348143446525, 0.9273246588384639, 0.9672326245636307, 0.6509309214006136, 0.8074420818787686, 0.9891039881519095, 0.9891039881519095, 0.5956839098698826]}, {\"categories\": [\"0\", \"1\", \"2\", \"3\", \"4\", \"5\", \"6\", \"7\", \"8\", \"9\", \"10\", \"11\", \"12\", \"13\", \"14\", \"15\", \"16\", \"17\", \"18\", \"19\"], \"mode\": \"lines\", \"name\": \"recall_score_weighted_max\", \"stepped\": true, \"type\": \"scatter\", \"data\": [0.9927271765577066, 0.9927271765577066, 0.9927271765577066, 0.9927271765577066, 0.9927271765577066, 0.9927271765577066, 0.9927271765577066, 0.9927271765577066, 0.9927271765577066, 0.9927271765577066, 0.9927271765577066, 0.9927271765577066, 0.9927271765577066, 0.9927271765577066, 0.9927271765577066, 0.9927271765577066, 0.9927271765577066, 0.9927271765577066, 0.9927271765577066, 0.9927271765577066]}], \"f1_score_micro\": [{\"categories\": [\"0\", \"1\", \"2\", \"3\", \"4\", \"5\", \"6\", \"7\", \"8\", \"9\", \"10\", \"11\", \"12\", \"13\", \"14\", \"15\", \"16\", \"17\", \"18\", \"19\"], \"mode\": \"markers\", \"name\": \"f1_score_micro\", \"stepped\": false, \"type\": \"scatter\", \"data\": [0.9927271765577066, 0.9854543531154132, 0.9891039881519095, 0.9818047180789168, 0.8291812123135512, 0.9927271765577066, 0.9526869776790436, 0.9890775415212102, 0.938167777425156, 0.9274833386226595, 0.8474029408653339, 0.9891039881519095, 0.9453348143446525, 0.9273246588384639, 0.9672326245636307, 0.6509309214006136, 0.8074420818787686, 0.9891039881519095, 0.9891039881519095, 0.5956839098698826]}, {\"categories\": [\"0\", \"1\", \"2\", \"3\", \"4\", \"5\", \"6\", \"7\", \"8\", \"9\", \"10\", \"11\", \"12\", \"13\", \"14\", \"15\", \"16\", \"17\", \"18\", \"19\"], \"mode\": \"lines\", \"name\": \"f1_score_micro_max\", \"stepped\": true, \"type\": \"scatter\", \"data\": [0.9927271765577066, 0.9927271765577066, 0.9927271765577066, 0.9927271765577066, 0.9927271765577066, 0.9927271765577066, 0.9927271765577066, 0.9927271765577066, 0.9927271765577066, 0.9927271765577066, 0.9927271765577066, 0.9927271765577066, 0.9927271765577066, 0.9927271765577066, 0.9927271765577066, 0.9927271765577066, 0.9927271765577066, 0.9927271765577066, 0.9927271765577066, 0.9927271765577066]}], \"norm_macro_recall\": [{\"categories\": [\"0\", \"1\", \"2\", \"3\", \"4\", \"5\", \"6\", \"7\", \"8\", \"9\", \"10\", \"11\", \"12\", \"13\", \"14\", \"15\", \"16\", \"17\", \"18\", \"19\"], \"mode\": \"markers\", \"name\": \"norm_macro_recall\", \"stepped\": false, \"type\": \"scatter\", \"data\": [0.9916294642857142, 0.9777232142857142, 0.9877232142857142, 0.9677232142857142, 0.7941741071428572, 0.9916294642857142, 0.8982589285714284, 0.9871651785714285, 0.9130729166666666, 0.9163318452380953, 0.8159374999999999, 0.9877232142857142, 0.9347098214285713, 0.8370413961038958, 0.9459970238095237, 0.40392721861471864, 0.7054315476190475, 0.9877232142857142, 0.9877232142857142, 0.24999999999999997]}, {\"categories\": [\"0\", \"1\", \"2\", \"3\", \"4\", \"5\", \"6\", \"7\", \"8\", \"9\", \"10\", \"11\", \"12\", \"13\", \"14\", \"15\", \"16\", \"17\", \"18\", \"19\"], \"mode\": \"lines\", \"name\": \"norm_macro_recall_max\", \"stepped\": true, \"type\": \"scatter\", \"data\": [0.9916294642857142, 0.9916294642857142, 0.9916294642857142, 0.9916294642857142, 0.9916294642857142, 0.9916294642857142, 0.9916294642857142, 0.9916294642857142, 0.9916294642857142, 0.9916294642857142, 0.9916294642857142, 0.9916294642857142, 0.9916294642857142, 0.9916294642857142, 0.9916294642857142, 0.9916294642857142, 0.9916294642857142, 0.9916294642857142, 0.9916294642857142, 0.9916294642857142]}], \"precision_score_micro\": [{\"categories\": [\"0\", \"1\", \"2\", \"3\", \"4\", \"5\", \"6\", \"7\", \"8\", \"9\", \"10\", \"11\", \"12\", \"13\", \"14\", \"15\", \"16\", \"17\", \"18\", \"19\"], \"mode\": \"markers\", \"name\": \"precision_score_micro\", \"stepped\": false, \"type\": \"scatter\", \"data\": [0.9927271765577066, 0.9854543531154132, 0.9891039881519095, 0.9818047180789168, 0.8291812123135512, 0.9927271765577066, 0.9526869776790436, 0.9890775415212102, 0.938167777425156, 0.9274833386226595, 0.8474029408653339, 0.9891039881519095, 0.9453348143446525, 0.9273246588384639, 0.9672326245636307, 0.6509309214006136, 0.8074420818787686, 0.9891039881519095, 0.9891039881519095, 0.5956839098698826]}, {\"categories\": [\"0\", \"1\", \"2\", \"3\", \"4\", \"5\", \"6\", \"7\", \"8\", \"9\", \"10\", \"11\", \"12\", \"13\", \"14\", \"15\", \"16\", \"17\", \"18\", \"19\"], \"mode\": \"lines\", \"name\": \"precision_score_micro_max\", \"stepped\": true, \"type\": \"scatter\", \"data\": [0.9927271765577066, 0.9927271765577066, 0.9927271765577066, 0.9927271765577066, 0.9927271765577066, 0.9927271765577066, 0.9927271765577066, 0.9927271765577066, 0.9927271765577066, 0.9927271765577066, 0.9927271765577066, 0.9927271765577066, 0.9927271765577066, 0.9927271765577066, 0.9927271765577066, 0.9927271765577066, 0.9927271765577066, 0.9927271765577066, 0.9927271765577066, 0.9927271765577066]}], \"accuracy\": [{\"categories\": [\"0\", \"1\", \"2\", \"3\", \"4\", \"5\", \"6\", \"7\", \"8\", \"9\", \"10\", \"11\", \"12\", \"13\", \"14\", \"15\", \"16\", \"17\", \"18\", \"19\"], \"mode\": \"markers\", \"name\": \"accuracy\", \"stepped\": false, \"type\": \"scatter\", \"data\": [0.9927271765577066, 0.9854543531154132, 0.9891039881519095, 0.9818047180789168, 0.8291812123135512, 0.9927271765577066, 0.9526869776790436, 0.9890775415212102, 0.938167777425156, 0.9274833386226595, 0.8474029408653339, 0.9891039881519095, 0.9453348143446525, 0.9273246588384639, 0.9672326245636307, 0.6509309214006136, 0.8074420818787686, 0.9891039881519095, 0.9891039881519095, 0.5956839098698826]}, {\"categories\": [\"0\", \"1\", \"2\", \"3\", \"4\", \"5\", \"6\", \"7\", \"8\", \"9\", \"10\", \"11\", \"12\", \"13\", \"14\", \"15\", \"16\", \"17\", \"18\", \"19\"], \"mode\": \"lines\", \"name\": \"accuracy_max\", \"stepped\": true, \"type\": \"scatter\", \"data\": [0.9927271765577066, 0.9927271765577066, 0.9927271765577066, 0.9927271765577066, 0.9927271765577066, 0.9927271765577066, 0.9927271765577066, 0.9927271765577066, 0.9927271765577066, 0.9927271765577066, 0.9927271765577066, 0.9927271765577066, 0.9927271765577066, 0.9927271765577066, 0.9927271765577066, 0.9927271765577066, 0.9927271765577066, 0.9927271765577066, 0.9927271765577066, 0.9927271765577066]}], \"matthews_correlation\": [{\"categories\": [\"0\", \"1\", \"2\", \"3\", \"4\", \"5\", \"6\", \"7\", \"8\", \"9\", \"10\", \"11\", \"12\", \"13\", \"14\", \"15\", \"16\", \"17\", \"18\", \"19\"], \"mode\": \"markers\", \"name\": \"matthews_correlation\", \"stepped\": false, \"type\": \"scatter\", \"data\": [0.9886334002448018, 0.9773930638827903, 0.9831089955156682, 0.9717311977023175, 0.7637692188701914, 0.9886334002448018, 0.9260656650936724, 0.9829865451575033, 0.9041453118776024, 0.8959131908479046, 0.7880505680624269, 0.9831089955156682, 0.919250830835519, 0.8880003325170347, 0.9486802092717683, 0.442228855427382, 0.7100833843470595, 0.9831089955156682, 0.9831089955156682, 0.3472694456833555]}, {\"categories\": [\"0\", \"1\", \"2\", \"3\", \"4\", \"5\", \"6\", \"7\", \"8\", \"9\", \"10\", \"11\", \"12\", \"13\", \"14\", \"15\", \"16\", \"17\", \"18\", \"19\"], \"mode\": \"lines\", \"name\": \"matthews_correlation_max\", \"stepped\": true, \"type\": \"scatter\", \"data\": [0.9886334002448018, 0.9886334002448018, 0.9886334002448018, 0.9886334002448018, 0.9886334002448018, 0.9886334002448018, 0.9886334002448018, 0.9886334002448018, 0.9886334002448018, 0.9886334002448018, 0.9886334002448018, 0.9886334002448018, 0.9886334002448018, 0.9886334002448018, 0.9886334002448018, 0.9886334002448018, 0.9886334002448018, 0.9886334002448018, 0.9886334002448018, 0.9886334002448018]}], \"average_precision_score_micro\": [{\"categories\": [\"0\", \"1\", \"2\", \"3\", \"4\", \"5\", \"6\", \"7\", \"8\", \"9\", \"10\", \"11\", \"12\", \"13\", \"14\", \"15\", \"16\", \"17\", \"18\", \"19\"], \"mode\": \"markers\", \"name\": \"average_precision_score_micro\", \"stepped\": false, \"type\": \"scatter\", \"data\": [0.9998171390403168, 0.9983824207198262, 0.999432597149845, 0.9992711482043608, 0.9054508953518012, 0.9991767715743535, 0.9935274093219575, 0.999167360181313, 0.9879189829691095, 0.9701782354555386, 0.9274728826163228, 0.9995318412460736, 0.9859755479211785, 0.9849552490643477, 0.9947972917457044, 0.7456204964222385, 0.8373679059170402, 0.9989500849418236, 0.9997373919361443, 0.7846914111078845]}, {\"categories\": [\"0\", \"1\", \"2\", \"3\", \"4\", \"5\", \"6\", \"7\", \"8\", \"9\", \"10\", \"11\", \"12\", \"13\", \"14\", \"15\", \"16\", \"17\", \"18\", \"19\"], \"mode\": \"lines\", \"name\": \"average_precision_score_micro_max\", \"stepped\": true, \"type\": \"scatter\", \"data\": [0.9998171390403168, 0.9998171390403168, 0.9998171390403168, 0.9998171390403168, 0.9998171390403168, 0.9998171390403168, 0.9998171390403168, 0.9998171390403168, 0.9998171390403168, 0.9998171390403168, 0.9998171390403168, 0.9998171390403168, 0.9998171390403168, 0.9998171390403168, 0.9998171390403168, 0.9998171390403168, 0.9998171390403168, 0.9998171390403168, 0.9998171390403168, 0.9998171390403168]}], \"f1_score_macro\": [{\"categories\": [\"0\", \"1\", \"2\", \"3\", \"4\", \"5\", \"6\", \"7\", \"8\", \"9\", \"10\", \"11\", \"12\", \"13\", \"14\", \"15\", \"16\", \"17\", \"18\", \"19\"], \"mode\": \"markers\", \"name\": \"f1_score_macro\", \"stepped\": false, \"type\": \"scatter\", \"data\": [0.9929789958496474, 0.9841513146145695, 0.989001725513287, 0.9791843812355734, 0.8346969017286983, 0.9929789958496474, 0.942412859662564, 0.9900011439663461, 0.9394242184924603, 0.9270423897636286, 0.8553715949288372, 0.989001725513287, 0.9419737124793208, 0.9092485196329857, 0.9662405306542858, 0.6041949041097587, 0.8067062078144771, 0.989001725513287, 0.989001725513287, 0.3984062438512494]}, {\"categories\": [\"0\", \"1\", \"2\", \"3\", \"4\", \"5\", \"6\", \"7\", \"8\", \"9\", \"10\", \"11\", \"12\", \"13\", \"14\", \"15\", \"16\", \"17\", \"18\", \"19\"], \"mode\": \"lines\", \"name\": \"f1_score_macro_max\", \"stepped\": true, \"type\": \"scatter\", \"data\": [0.9929789958496474, 0.9929789958496474, 0.9929789958496474, 0.9929789958496474, 0.9929789958496474, 0.9929789958496474, 0.9929789958496474, 0.9929789958496474, 0.9929789958496474, 0.9929789958496474, 0.9929789958496474, 0.9929789958496474, 0.9929789958496474, 0.9929789958496474, 0.9929789958496474, 0.9929789958496474, 0.9929789958496474, 0.9929789958496474, 0.9929789958496474, 0.9929789958496474]}], \"average_precision_score_weighted\": [{\"categories\": [\"0\", \"1\", \"2\", \"3\", \"4\", \"5\", \"6\", \"7\", \"8\", \"9\", \"10\", \"11\", \"12\", \"13\", \"14\", \"15\", \"16\", \"17\", \"18\", \"19\"], \"mode\": \"markers\", \"name\": \"average_precision_score_weighted\", \"stepped\": false, \"type\": \"scatter\", \"data\": [0.9998273815945625, 0.9986220344854744, 0.9994115936979844, 0.9994029530720139, 0.9467889373710368, 0.9993326734419974, 0.9918373038982986, 0.9989195302965468, 0.9864915819555864, 0.9884314580025295, 0.9597803845367838, 0.9996452719968956, 0.9977168378642542, 0.9927186629497982, 0.9947395052797217, 0.7396523277495093, 0.8830383759277477, 0.9984113423091383, 1.0, 0.9998719426302984]}, {\"categories\": [\"0\", \"1\", \"2\", \"3\", \"4\", \"5\", \"6\", \"7\", \"8\", \"9\", \"10\", \"11\", \"12\", \"13\", \"14\", \"15\", \"16\", \"17\", \"18\", \"19\"], \"mode\": \"lines\", \"name\": \"average_precision_score_weighted_max\", \"stepped\": true, \"type\": \"scatter\", \"data\": [0.9998273815945625, 0.9998273815945625, 0.9998273815945625, 0.9998273815945625, 0.9998273815945625, 0.9998273815945625, 0.9998273815945625, 0.9998273815945625, 0.9998273815945625, 0.9998273815945625, 0.9998273815945625, 0.9998273815945625, 0.9998273815945625, 0.9998273815945625, 0.9998273815945625, 0.9998273815945625, 0.9998273815945625, 0.9998273815945625, 1.0, 1.0]}], \"AUC_weighted\": [{\"categories\": [\"0\", \"1\", \"2\", \"3\", \"4\", \"5\", \"6\", \"7\", \"8\", \"9\", \"10\", \"11\", \"12\", \"13\", \"14\", \"15\", \"16\", \"17\", \"18\", \"19\"], \"mode\": \"markers\", \"name\": \"AUC_weighted\", \"stepped\": false, \"type\": \"scatter\", \"data\": [0.9999174899537218, 0.9992806156226498, 0.9996547510167525, 0.9996547510167526, 0.9575535618146909, 0.9995570321723395, 0.9954723471298896, 0.9991536217800367, 0.9926698969685437, 0.9945006706635768, 0.9680209993682751, 0.9997784135028924, 0.9991282893833671, 0.9956269125894157, 0.9979662305098014, 0.828814801262195, 0.918785387084669, 0.9992088579111218, 1.0, 0.9999098855546543]}, {\"categories\": [\"0\", \"1\", \"2\", \"3\", \"4\", \"5\", \"6\", \"7\", \"8\", \"9\", \"10\", \"11\", \"12\", \"13\", \"14\", \"15\", \"16\", \"17\", \"18\", \"19\"], \"mode\": \"lines\", \"name\": \"AUC_weighted_max\", \"stepped\": true, \"type\": \"scatter\", \"data\": [0.9999174899537218, 0.9999174899537218, 0.9999174899537218, 0.9999174899537218, 0.9999174899537218, 0.9999174899537218, 0.9999174899537218, 0.9999174899537218, 0.9999174899537218, 0.9999174899537218, 0.9999174899537218, 0.9999174899537218, 0.9999174899537218, 0.9999174899537218, 0.9999174899537218, 0.9999174899537218, 0.9999174899537218, 0.9999174899537218, 1.0, 1.0]}], \"f1_score_weighted\": [{\"categories\": [\"0\", \"1\", \"2\", \"3\", \"4\", \"5\", \"6\", \"7\", \"8\", \"9\", \"10\", \"11\", \"12\", \"13\", \"14\", \"15\", \"16\", \"17\", \"18\", \"19\"], \"mode\": \"markers\", \"name\": \"f1_score_weighted\", \"stepped\": false, \"type\": \"scatter\", \"data\": [0.9927423193321787, 0.9855240669472325, 0.989163063300315, 0.9818383880789825, 0.821316945329691, 0.9927423193321787, 0.9518529357127248, 0.989090646949736, 0.937963505891932, 0.926149542858202, 0.8417099328300154, 0.989163063300315, 0.9446454769512691, 0.9244345499930401, 0.96737169212085, 0.6362907658093815, 0.8026835454231674, 0.989163063300315, 0.989163063300315, 0.46587941289707907]}, {\"categories\": [\"0\", \"1\", \"2\", \"3\", \"4\", \"5\", \"6\", \"7\", \"8\", \"9\", \"10\", \"11\", \"12\", \"13\", \"14\", \"15\", \"16\", \"17\", \"18\", \"19\"], \"mode\": \"lines\", \"name\": \"f1_score_weighted_max\", \"stepped\": true, \"type\": \"scatter\", \"data\": [0.9927423193321787, 0.9927423193321787, 0.9927423193321787, 0.9927423193321787, 0.9927423193321787, 0.9927423193321787, 0.9927423193321787, 0.9927423193321787, 0.9927423193321787, 0.9927423193321787, 0.9927423193321787, 0.9927423193321787, 0.9927423193321787, 0.9927423193321787, 0.9927423193321787, 0.9927423193321787, 0.9927423193321787, 0.9927423193321787, 0.9927423193321787, 0.9927423193321787]}], \"average_precision_score_macro\": [{\"categories\": [\"0\", \"1\", \"2\", \"3\", \"4\", \"5\", \"6\", \"7\", \"8\", \"9\", \"10\", \"11\", \"12\", \"13\", \"14\", \"15\", \"16\", \"17\", \"18\", \"19\"], \"mode\": \"markers\", \"name\": \"average_precision_score_macro\", \"stepped\": false, \"type\": \"scatter\", \"data\": [0.9997807244279018, 0.9983339252999777, 0.9993684779839154, 0.9993531436167349, 0.951236643904718, 0.9993773017082506, 0.9906454854528881, 0.9990971178111079, 0.9852327648933059, 0.9853729758863292, 0.964150098933745, 0.9996374466530451, 0.9969051707114059, 0.9916253208519463, 0.9931765888729518, 0.7291351156968736, 0.8776284407733583, 0.9980974551809761, 1.0, 0.9998955722639933]}, {\"categories\": [\"0\", \"1\", \"2\", \"3\", \"4\", \"5\", \"6\", \"7\", \"8\", \"9\", \"10\", \"11\", \"12\", \"13\", \"14\", \"15\", \"16\", \"17\", \"18\", \"19\"], \"mode\": \"lines\", \"name\": \"average_precision_score_macro_max\", \"stepped\": true, \"type\": \"scatter\", \"data\": [0.9997807244279018, 0.9997807244279018, 0.9997807244279018, 0.9997807244279018, 0.9997807244279018, 0.9997807244279018, 0.9997807244279018, 0.9997807244279018, 0.9997807244279018, 0.9997807244279018, 0.9997807244279018, 0.9997807244279018, 0.9997807244279018, 0.9997807244279018, 0.9997807244279018, 0.9997807244279018, 0.9997807244279018, 0.9997807244279018, 1.0, 1.0]}], \"recall_score_macro\": [{\"categories\": [\"0\", \"1\", \"2\", \"3\", \"4\", \"5\", \"6\", \"7\", \"8\", \"9\", \"10\", \"11\", \"12\", \"13\", \"14\", \"15\", \"16\", \"17\", \"18\", \"19\"], \"mode\": \"markers\", \"name\": \"recall_score_macro\", \"stepped\": false, \"type\": \"scatter\", \"data\": [0.9944196428571428, 0.9851488095238096, 0.9918154761904763, 0.9784821428571429, 0.8627827380952382, 0.9944196428571428, 0.9321726190476189, 0.9914434523809523, 0.942048611111111, 0.9442212301587303, 0.8772916666666667, 0.9918154761904763, 0.9564732142857142, 0.8913609307359307, 0.9639980158730159, 0.6026181457431458, 0.8036210317460317, 0.9918154761904763, 0.9918154761904763, 0.5]}, {\"categories\": [\"0\", \"1\", \"2\", \"3\", \"4\", \"5\", \"6\", \"7\", \"8\", \"9\", \"10\", \"11\", \"12\", \"13\", \"14\", \"15\", \"16\", \"17\", \"18\", \"19\"], \"mode\": \"lines\", \"name\": \"recall_score_macro_max\", \"stepped\": true, \"type\": \"scatter\", \"data\": [0.9944196428571428, 0.9944196428571428, 0.9944196428571428, 0.9944196428571428, 0.9944196428571428, 0.9944196428571428, 0.9944196428571428, 0.9944196428571428, 0.9944196428571428, 0.9944196428571428, 0.9944196428571428, 0.9944196428571428, 0.9944196428571428, 0.9944196428571428, 0.9944196428571428, 0.9944196428571428, 0.9944196428571428, 0.9944196428571428, 0.9944196428571428, 0.9944196428571428]}], \"recall_score_micro\": [{\"categories\": [\"0\", \"1\", \"2\", \"3\", \"4\", \"5\", \"6\", \"7\", \"8\", \"9\", \"10\", \"11\", \"12\", \"13\", \"14\", \"15\", \"16\", \"17\", \"18\", \"19\"], \"mode\": \"markers\", \"name\": \"recall_score_micro\", \"stepped\": false, \"type\": \"scatter\", \"data\": [0.9927271765577066, 0.9854543531154132, 0.9891039881519095, 0.9818047180789168, 0.8291812123135512, 0.9927271765577066, 0.9526869776790436, 0.9890775415212102, 0.938167777425156, 0.9274833386226595, 0.8474029408653339, 0.9891039881519095, 0.9453348143446525, 0.9273246588384639, 0.9672326245636307, 0.6509309214006136, 0.8074420818787686, 0.9891039881519095, 0.9891039881519095, 0.5956839098698826]}, {\"categories\": [\"0\", \"1\", \"2\", \"3\", \"4\", \"5\", \"6\", \"7\", \"8\", \"9\", \"10\", \"11\", \"12\", \"13\", \"14\", \"15\", \"16\", \"17\", \"18\", \"19\"], \"mode\": \"lines\", \"name\": \"recall_score_micro_max\", \"stepped\": true, \"type\": \"scatter\", \"data\": [0.9927271765577066, 0.9927271765577066, 0.9927271765577066, 0.9927271765577066, 0.9927271765577066, 0.9927271765577066, 0.9927271765577066, 0.9927271765577066, 0.9927271765577066, 0.9927271765577066, 0.9927271765577066, 0.9927271765577066, 0.9927271765577066, 0.9927271765577066, 0.9927271765577066, 0.9927271765577066, 0.9927271765577066, 0.9927271765577066, 0.9927271765577066, 0.9927271765577066]}], \"balanced_accuracy\": [{\"categories\": [\"0\", \"1\", \"2\", \"3\", \"4\", \"5\", \"6\", \"7\", \"8\", \"9\", \"10\", \"11\", \"12\", \"13\", \"14\", \"15\", \"16\", \"17\", \"18\", \"19\"], \"mode\": \"markers\", \"name\": \"balanced_accuracy\", \"stepped\": false, \"type\": \"scatter\", \"data\": [0.9944196428571428, 0.9851488095238096, 0.9918154761904763, 0.9784821428571429, 0.8627827380952382, 0.9944196428571428, 0.9321726190476189, 0.9914434523809523, 0.942048611111111, 0.9442212301587303, 0.8772916666666667, 0.9918154761904763, 0.9564732142857142, 0.8913609307359307, 0.9639980158730159, 0.6026181457431458, 0.8036210317460317, 0.9918154761904763, 0.9918154761904763, 0.5]}, {\"categories\": [\"0\", \"1\", \"2\", \"3\", \"4\", \"5\", \"6\", \"7\", \"8\", \"9\", \"10\", \"11\", \"12\", \"13\", \"14\", \"15\", \"16\", \"17\", \"18\", \"19\"], \"mode\": \"lines\", \"name\": \"balanced_accuracy_max\", \"stepped\": true, \"type\": \"scatter\", \"data\": [0.9944196428571428, 0.9944196428571428, 0.9944196428571428, 0.9944196428571428, 0.9944196428571428, 0.9944196428571428, 0.9944196428571428, 0.9944196428571428, 0.9944196428571428, 0.9944196428571428, 0.9944196428571428, 0.9944196428571428, 0.9944196428571428, 0.9944196428571428, 0.9944196428571428, 0.9944196428571428, 0.9944196428571428, 0.9944196428571428, 0.9944196428571428, 0.9944196428571428]}], \"precision_score_macro\": [{\"categories\": [\"0\", \"1\", \"2\", \"3\", \"4\", \"5\", \"6\", \"7\", \"8\", \"9\", \"10\", \"11\", \"12\", \"13\", \"14\", \"15\", \"16\", \"17\", \"18\", \"19\"], \"mode\": \"markers\", \"name\": \"precision_score_macro\", \"stepped\": false, \"type\": \"scatter\", \"data\": [0.9916996793057913, 0.9838362068965517, 0.9866593567251462, 0.9811087570621468, 0.8500271104437771, 0.9916996793057913, 0.9590200446568633, 0.9888765294771968, 0.938807036449258, 0.9220788349077822, 0.8698180332739156, 0.9866593567251462, 0.9372577435832585, 0.9459346504559271, 0.969626500540479, 0.6645262760452517, 0.8380666725262707, 0.9866593567251462, 0.9866593567251462, 0.34826836465289646]}, {\"categories\": [\"0\", \"1\", \"2\", \"3\", \"4\", \"5\", \"6\", \"7\", \"8\", \"9\", \"10\", \"11\", \"12\", \"13\", \"14\", \"15\", \"16\", \"17\", \"18\", \"19\"], \"mode\": \"lines\", \"name\": \"precision_score_macro_max\", \"stepped\": true, \"type\": \"scatter\", \"data\": [0.9916996793057913, 0.9916996793057913, 0.9916996793057913, 0.9916996793057913, 0.9916996793057913, 0.9916996793057913, 0.9916996793057913, 0.9916996793057913, 0.9916996793057913, 0.9916996793057913, 0.9916996793057913, 0.9916996793057913, 0.9916996793057913, 0.9916996793057913, 0.9916996793057913, 0.9916996793057913, 0.9916996793057913, 0.9916996793057913, 0.9916996793057913, 0.9916996793057913]}], \"AUC_macro\": [{\"categories\": [\"0\", \"1\", \"2\", \"3\", \"4\", \"5\", \"6\", \"7\", \"8\", \"9\", \"10\", \"11\", \"12\", \"13\", \"14\", \"15\", \"16\", \"17\", \"18\", \"19\"], \"mode\": \"markers\", \"name\": \"AUC_macro\", \"stepped\": false, \"type\": \"scatter\", \"data\": [0.9999133682293404, 0.9992884104342438, 0.9996797640894862, 0.9996797640894862, 0.9650256544778559, 0.9996194234909512, 0.9957775732081289, 0.9993425469119914, 0.9923847408628732, 0.9937338411547927, 0.9741028560221823, 0.9998046906033018, 0.9990149599003766, 0.9957465691135166, 0.9978675575376963, 0.8503992725465095, 0.9282119445306503, 0.9992052071913182, 1.0, 0.9999265138154028]}, {\"categories\": [\"0\", \"1\", \"2\", \"3\", \"4\", \"5\", \"6\", \"7\", \"8\", \"9\", \"10\", \"11\", \"12\", \"13\", \"14\", \"15\", \"16\", \"17\", \"18\", \"19\"], \"mode\": \"lines\", \"name\": \"AUC_macro_max\", \"stepped\": true, \"type\": \"scatter\", \"data\": [0.9999133682293404, 0.9999133682293404, 0.9999133682293404, 0.9999133682293404, 0.9999133682293404, 0.9999133682293404, 0.9999133682293404, 0.9999133682293404, 0.9999133682293404, 0.9999133682293404, 0.9999133682293404, 0.9999133682293404, 0.9999133682293404, 0.9999133682293404, 0.9999133682293404, 0.9999133682293404, 0.9999133682293404, 0.9999133682293404, 1.0, 1.0]}], \"AUC_micro\": [{\"categories\": [\"0\", \"1\", \"2\", \"3\", \"4\", \"5\", \"6\", \"7\", \"8\", \"9\", \"10\", \"11\", \"12\", \"13\", \"14\", \"15\", \"16\", \"17\", \"18\", \"19\"], \"mode\": \"markers\", \"name\": \"AUC_micro\", \"stepped\": false, \"type\": \"scatter\", \"data\": [0.9999073381737298, 0.9991671976136226, 0.9997085023436141, 0.999628775669892, 0.9513491245205629, 0.9995747269595907, 0.9966161363961938, 0.9995770350596993, 0.9938530635941507, 0.9859835871812608, 0.9609427733967519, 0.9997617816872125, 0.9931687510797012, 0.9911812097060976, 0.9972294258726037, 0.8696009558735016, 0.9273358622165064, 0.9994577335616298, 0.9998675710077065, 0.8194466784055799]}, {\"categories\": [\"0\", \"1\", \"2\", \"3\", \"4\", \"5\", \"6\", \"7\", \"8\", \"9\", \"10\", \"11\", \"12\", \"13\", \"14\", \"15\", \"16\", \"17\", \"18\", \"19\"], \"mode\": \"lines\", \"name\": \"AUC_micro_max\", \"stepped\": true, \"type\": \"scatter\", \"data\": [0.9999073381737298, 0.9999073381737298, 0.9999073381737298, 0.9999073381737298, 0.9999073381737298, 0.9999073381737298, 0.9999073381737298, 0.9999073381737298, 0.9999073381737298, 0.9999073381737298, 0.9999073381737298, 0.9999073381737298, 0.9999073381737298, 0.9999073381737298, 0.9999073381737298, 0.9999073381737298, 0.9999073381737298, 0.9999073381737298, 0.9999073381737298, 0.9999073381737298]}]}, \"metricName\": null, \"primaryMetricName\": \"AUC_weighted\", \"showLegend\": false}, \"run_metrics\": [{\"name\": \"experiment_status\", \"run_id\": \"AutoML_26369b95-c5c3-4592-977a-3be41efa93a5\", \"categories\": [0, 1, 2, 3, 4, 5, 6, 7, 8, 9, 10, 11], \"series\": [{\"data\": [\"DatasetEvaluation\", \"FeaturesGeneration\", \"DatasetFeaturization\", \"DatasetFeaturizationCompleted\", \"DatasetCrossValidationSplit\", \"ModelSelection\", \"BestRunExplainModel\", \"ModelExplanationDataSetSetup\", \"PickSurrogateModel\", \"EngineeredFeatureExplanations\", \"EngineeredFeatureExplanations\", \"BestRunExplainModel\"]}]}, {\"name\": \"experiment_status_description\", \"run_id\": \"AutoML_26369b95-c5c3-4592-977a-3be41efa93a5\", \"categories\": [0, 1, 2, 3, 4, 5, 6, 7, 8, 9, 10, 11], \"series\": [{\"data\": [\"Gathering dataset statistics.\", \"Generating features for the dataset.\", \"Beginning to fit featurizers and featurize the dataset.\", \"Completed fit featurizers and featurizing the dataset.\", \"Generating individually featurized CV splits.\", \"Beginning model selection.\", \"Best run model explanations started\", \"Model explanations data setup completed\", \"Choosing LightGBM as the surrogate model for explanations\", \"Computation of engineered features started\", \"Computation of engineered features completed\", \"Best run model explanations completed\"]}]}, {\"name\": \"log_loss\", \"run_id\": \"AutoML_26369b95-c5c3-4592-977a-3be41efa93a5\", \"categories\": [0], \"series\": [{\"data\": [0.13120543891033698]}]}, {\"name\": \"precision_score_weighted\", \"run_id\": \"AutoML_26369b95-c5c3-4592-977a-3be41efa93a5\", \"categories\": [0], \"series\": [{\"data\": [0.9896209153874849]}]}, {\"name\": \"weighted_accuracy\", \"run_id\": \"AutoML_26369b95-c5c3-4592-977a-3be41efa93a5\", \"categories\": [0], \"series\": [{\"data\": [0.986707719162709]}]}, {\"name\": \"recall_score_weighted\", \"run_id\": \"AutoML_26369b95-c5c3-4592-977a-3be41efa93a5\", \"categories\": [0], \"series\": [{\"data\": [0.9891039881519095]}]}, {\"name\": \"f1_score_micro\", \"run_id\": \"AutoML_26369b95-c5c3-4592-977a-3be41efa93a5\", \"categories\": [0], \"series\": [{\"data\": [0.9891039881519095]}]}, {\"name\": \"norm_macro_recall\", \"run_id\": \"AutoML_26369b95-c5c3-4592-977a-3be41efa93a5\", \"categories\": [0], \"series\": [{\"data\": [0.9877232142857142]}]}, {\"name\": \"average_precision_score_weighted\", \"run_id\": \"AutoML_26369b95-c5c3-4592-977a-3be41efa93a5\", \"categories\": [0], \"series\": [{\"data\": [1.0]}]}, {\"name\": \"average_precision_score_micro\", \"run_id\": \"AutoML_26369b95-c5c3-4592-977a-3be41efa93a5\", \"categories\": [0], \"series\": [{\"data\": [0.9997373919361443]}]}, {\"name\": \"matthews_correlation\", \"run_id\": \"AutoML_26369b95-c5c3-4592-977a-3be41efa93a5\", \"categories\": [0], \"series\": [{\"data\": [0.9831089955156682]}]}, {\"name\": \"recall_score_micro\", \"run_id\": \"AutoML_26369b95-c5c3-4592-977a-3be41efa93a5\", \"categories\": [0], \"series\": [{\"data\": [0.9891039881519095]}]}, {\"name\": \"f1_score_weighted\", \"run_id\": \"AutoML_26369b95-c5c3-4592-977a-3be41efa93a5\", \"categories\": [0], \"series\": [{\"data\": [0.989163063300315]}]}, {\"name\": \"AUC_macro\", \"run_id\": \"AutoML_26369b95-c5c3-4592-977a-3be41efa93a5\", \"categories\": [0], \"series\": [{\"data\": [1.0]}]}, {\"name\": \"f1_score_macro\", \"run_id\": \"AutoML_26369b95-c5c3-4592-977a-3be41efa93a5\", \"categories\": [0], \"series\": [{\"data\": [0.989001725513287]}]}, {\"name\": \"precision_score_micro\", \"run_id\": \"AutoML_26369b95-c5c3-4592-977a-3be41efa93a5\", \"categories\": [0], \"series\": [{\"data\": [0.9891039881519095]}]}, {\"name\": \"precision_score_macro\", \"run_id\": \"AutoML_26369b95-c5c3-4592-977a-3be41efa93a5\", \"categories\": [0], \"series\": [{\"data\": [0.9866593567251462]}]}, {\"name\": \"accuracy\", \"run_id\": \"AutoML_26369b95-c5c3-4592-977a-3be41efa93a5\", \"categories\": [0], \"series\": [{\"data\": [0.9891039881519095]}]}, {\"name\": \"average_precision_score_macro\", \"run_id\": \"AutoML_26369b95-c5c3-4592-977a-3be41efa93a5\", \"categories\": [0], \"series\": [{\"data\": [1.0]}]}, {\"name\": \"AUC_weighted\", \"run_id\": \"AutoML_26369b95-c5c3-4592-977a-3be41efa93a5\", \"categories\": [0], \"series\": [{\"data\": [1.0]}]}, {\"name\": \"AUC_micro\", \"run_id\": \"AutoML_26369b95-c5c3-4592-977a-3be41efa93a5\", \"categories\": [0], \"series\": [{\"data\": [0.9998675710077065]}]}, {\"name\": \"recall_score_macro\", \"run_id\": \"AutoML_26369b95-c5c3-4592-977a-3be41efa93a5\", \"categories\": [0], \"series\": [{\"data\": [0.9918154761904763]}]}, {\"name\": \"balanced_accuracy\", \"run_id\": \"AutoML_26369b95-c5c3-4592-977a-3be41efa93a5\", \"categories\": [0], \"series\": [{\"data\": [0.9918154761904763]}]}], \"run_logs\": \"\\nRun is completed.\", \"graph\": {}, \"widget_settings\": {\"childWidgetDisplay\": \"popup\", \"send_telemetry\": false, \"log_level\": \"INFO\", \"sdk_version\": \"1.6.0\"}, \"loading\": false}"
     },
     "metadata": {},
     "output_type": "display_data"
    }
   ],
   "source": [
    "from azureml.widgets import RunDetails\n",
    "\n",
    "RunDetails(local_run).show()"
   ]
  },
  {
   "cell_type": "code",
   "execution_count": 36,
   "metadata": {},
   "outputs": [
    {
     "name": "stdout",
     "output_type": "stream",
     "text": [
      "Run(Experiment: penguins-automatedML,\n",
      "Id: AutoML_26369b95-c5c3-4592-977a-3be41efa93a5_18,\n",
      "Type: None,\n",
      "Status: Completed)\n",
      "Pipeline(memory=None,\n",
      "     steps=[('datatransformer', DataTransformer(enable_dnn=None, enable_feature_sweeping=None,\n",
      "        feature_sweeping_config=None, feature_sweeping_timeout=None,\n",
      "        featurization_config=None, force_text_dnn=None,\n",
      "        is_cross_validation=None, is_onnx_compatible=None, logger=None,\n",
      "        obser...666666666666, 0.16666666666666666, 0.16666666666666666, 0.16666666666666666, 0.16666666666666666]))])\n",
      "Y_transformer(['LabelEncoder', LabelEncoder()])\n"
     ]
    }
   ],
   "source": [
    "best_run, fitted_model = local_run.get_output()\n",
    "\n",
    "print(best_run)\n",
    "print(fitted_model)"
   ]
  },
  {
   "cell_type": "code",
   "execution_count": 37,
   "metadata": {},
   "outputs": [
    {
     "name": "stdout",
     "output_type": "stream",
     "text": [
      "['Gentoo penguin (Pygoscelis papua)' 'Gentoo penguin (Pygoscelis papua)'\n",
      " 'Gentoo penguin (Pygoscelis papua)' 'Gentoo penguin (Pygoscelis papua)'\n",
      " 'Chinstrap penguin (Pygoscelis antarctica)'\n",
      " 'Chinstrap penguin (Pygoscelis antarctica)'\n",
      " 'Chinstrap penguin (Pygoscelis antarctica)'\n",
      " 'Gentoo penguin (Pygoscelis papua)' 'Adelie Penguin (Pygoscelis adeliae)'\n",
      " 'Gentoo penguin (Pygoscelis papua)']\n"
     ]
    }
   ],
   "source": [
    "y_predict = fitted_model.predict(test_data.drop(label, axis=1))\n",
    "print(y_predict[:10])"
   ]
  },
  {
   "cell_type": "code",
   "execution_count": 38,
   "metadata": {},
   "outputs": [
    {
     "name": "stdout",
     "output_type": "stream",
     "text": [
      "[[0.03526527 0.020852   0.94388272]\n",
      " [0.02766617 0.03200397 0.94032986]\n",
      " [0.02990272 0.02055203 0.94954524]\n",
      " [0.06163279 0.02014841 0.91821878]\n",
      " [0.14831231 0.81911638 0.03257132]\n",
      " [0.03166373 0.93430202 0.03403425]\n",
      " [0.14102185 0.82069391 0.03828424]\n",
      " [0.0799037  0.01980348 0.90029282]\n",
      " [0.8979937  0.01919649 0.0828098 ]\n",
      " [0.05562317 0.02168007 0.92269677]]\n"
     ]
    }
   ],
   "source": [
    "class_prob = fitted_model.predict_proba(test_data.drop(label, axis=1))\n",
    "print(class_prob[:10])"
   ]
  },
  {
   "cell_type": "code",
   "execution_count": null,
   "metadata": {},
   "outputs": [],
   "source": [
    "#https://github.com/Azure/MachineLearningNotebooks/tree/master/how-to-use-azureml/automated-machine-learning/forecasting-energy-demand"
   ]
  },
  {
   "cell_type": "code",
   "execution_count": null,
   "metadata": {},
   "outputs": [],
   "source": [
    "fitted_model.named_steps['timeseriestransformer']. get_engineered_feature_names ()"
   ]
  },
  {
   "cell_type": "code",
   "execution_count": null,
   "metadata": {},
   "outputs": [],
   "source": [
    "fitted_model.named_steps['timeseriestransformer'].get_featurization_summary()"
   ]
  }
 ],
 "metadata": {
  "kernelspec": {
   "display_name": "Python 3.6 - AzureML",
   "language": "python",
   "name": "python3-azureml"
  },
  "language_info": {
   "codemirror_mode": {
    "name": "ipython",
    "version": 3
   },
   "file_extension": ".py",
   "mimetype": "text/x-python",
   "name": "python",
   "nbconvert_exporter": "python",
   "pygments_lexer": "ipython3",
   "version": "3.6.9"
  }
 },
 "nbformat": 4,
 "nbformat_minor": 4
}
